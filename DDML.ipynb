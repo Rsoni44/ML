{
 "cells": [
  {
   "cell_type": "code",
   "execution_count": 1,
   "metadata": {},
   "outputs": [],
   "source": [
    "#Importing libraries\n",
    "\n",
    "import numpy as np\n",
    "import pandas as pd\n",
    "import matplotlib.pyplot as plt\n",
    "import seaborn as sns\n",
    "from sklearn.model_selection import train_test_split\n",
    "from sklearn.metrics import roc_curve, roc_auc_score, f1_score\n",
    "from sklearn.naive_bayes import GaussianNB\n",
    "from sklearn.linear_model import LogisticRegression\n",
    "from sklearn.neural_network import MLPClassifier\n",
    "from sklearn.naive_bayes import BernoulliNB\n",
    "from sklearn.tree import DecisionTreeClassifier\n",
    "from sklearn.base import BaseEstimator, TransformerMixin\n",
    "from sklearn.pipeline import Pipeline, FeatureUnion\n",
    "from sklearn.metrics import accuracy_score\n",
    "from sklearn.metrics import confusion_matrix\n",
    "from sklearn import metrics\n",
    "import warnings"
   ]
  },
  {
   "cell_type": "code",
   "execution_count": 2,
   "metadata": {},
   "outputs": [],
   "source": [
    "dataset = pd.read_csv('totalwithmaininfo.csv')\n",
    "dataset = dataset.drop(dataset.columns[2],axis=1)"
   ]
  },
  {
   "cell_type": "code",
   "execution_count": 3,
   "metadata": {},
   "outputs": [],
   "source": [
    "#dataset.head()"
   ]
  },
  {
   "cell_type": "code",
   "execution_count": 4,
   "metadata": {},
   "outputs": [],
   "source": [
    "dataset = dataset[dataset.Y != 5.0]  \n",
    "dataset.loc[dataset.Y == 0.0, \"Y\"] = int(0)\n",
    "dataset.loc[dataset.Y == 10.0, \"Y\"] = int(1)"
   ]
  },
  {
   "cell_type": "code",
   "execution_count": 5,
   "metadata": {},
   "outputs": [],
   "source": [
    "train_percentage = 17/22\n",
    "train_index = int(len(dataset)*train_percentage)\n",
    "test_index = len(dataset)-train_index"
   ]
  },
  {
   "cell_type": "code",
   "execution_count": 6,
   "metadata": {},
   "outputs": [],
   "source": [
    "df_train = dataset[:train_index]\n",
    "df_test = dataset[-test_index:]"
   ]
  },
  {
   "cell_type": "code",
   "execution_count": 7,
   "metadata": {},
   "outputs": [],
   "source": [
    "X_test = df_test.drop([\"Y\"],axis=1)\n",
    "y_test = df_test[\"Y\"]"
   ]
  },
  {
   "cell_type": "code",
   "execution_count": 8,
   "metadata": {},
   "outputs": [],
   "source": [
    "X_train = df_train.drop('Y',axis=1)\n",
    "y_train = df_train['Y']"
   ]
  },
  {
   "cell_type": "code",
   "execution_count": 9,
   "metadata": {},
   "outputs": [],
   "source": [
    "X_train.to_csv(\"E:\\\\NEW USER KALLA\\\\AML project\\\\AML project\\\\Output.csv\")"
   ]
  },
  {
   "cell_type": "code",
   "execution_count": 10,
   "metadata": {},
   "outputs": [],
   "source": [
    "y_test.to_csv(\"E:\\\\NEW USER KALLA\\\\AML project\\\\AML project\\\\Output_test.csv\")"
   ]
  },
  {
   "cell_type": "code",
   "execution_count": 11,
   "metadata": {},
   "outputs": [],
   "source": [
    "def average(y_pred):\n",
    "    \"\"\"Averaging sequential frames for classifier\"\"\"\n",
    "    for i in range(1, len(y_pred)-1):\n",
    "        if i % 240 == 0 or (i+1) % 240 == 0:\n",
    "            pass\n",
    "        else: \n",
    "            average = float(y_pred[i-1] + y_pred[i] + y_pred[i+1])/3\n",
    "            if average >= 0.5:\n",
    "                y_pred[i] = 1\n",
    "            else:\n",
    "                y_pred[i] = 0\n",
    "    return y_pred"
   ]
  },
  {
   "cell_type": "code",
   "execution_count": 12,
   "metadata": {
    "scrolled": true
   },
   "outputs": [
    {
     "name": "stdout",
     "output_type": "stream",
     "text": [
      "[0.8633643617021277, 0.8633643617021277, 0.9217414065443585]\n",
      "[[1097  175]\n",
      " [ 236 1500]]\n"
     ]
    },
    {
     "name": "stderr",
     "output_type": "stream",
     "text": [
      "C:\\ProgramData\\Anaconda3\\lib\\site-packages\\sklearn\\linear_model\\_sag.py:328: ConvergenceWarning: The max_iter was reached which means the coef_ did not converge\n",
      "  warnings.warn(\"The max_iter was reached which means \"\n"
     ]
    }
   ],
   "source": [
    "clf = LogisticRegression(solver='sag').fit(X_train, y_train)\n",
    "y_pred_1 = clf.predict(X_test)\n",
    "y_pred_1 = average(y_pred_1)\n",
    "y_score_1 = clf.predict_proba(X_test)[:,1]\n",
    "acc1 = accuracy_score(y_test, y_pred_1)\n",
    "f1_score_1 = metrics.f1_score(y_test, y_pred_1, average='micro')\n",
    "roc_1 = metrics.roc_auc_score(y_test, y_score_1, average='micro', multi_class=\"ovo\")\n",
    "print([acc1,f1_score_1,roc_1])\n",
    "print(confusion_matrix(y_test, y_pred_1))"
   ]
  },
  {
   "cell_type": "code",
   "execution_count": 13,
   "metadata": {},
   "outputs": [
    {
     "name": "stdout",
     "output_type": "stream",
     "text": [
      "              precision    recall  f1-score   support\n",
      "\n",
      "         0.0       0.82      0.86      0.84      1272\n",
      "         1.0       0.90      0.86      0.88      1736\n",
      "\n",
      "    accuracy                           0.86      3008\n",
      "   macro avg       0.86      0.86      0.86      3008\n",
      "weighted avg       0.86      0.86      0.86      3008\n",
      "\n"
     ]
    }
   ],
   "source": [
    "from sklearn.metrics import accuracy_score,confusion_matrix,plot_confusion_matrix\n",
    "from sklearn.metrics import classification_report\n",
    "print(classification_report(y_test, y_pred_1))"
   ]
  },
  {
   "cell_type": "code",
   "execution_count": 14,
   "metadata": {},
   "outputs": [
    {
     "data": {
      "text/plain": [
       "<sklearn.metrics._plot.confusion_matrix.ConfusionMatrixDisplay at 0x1a45857c1f0>"
      ]
     },
     "execution_count": 14,
     "metadata": {},
     "output_type": "execute_result"
    },
    {
     "data": {
      "image/png": "[encoded data removed]",
      "text/plain": [
       "<Figure size 432x288 with 2 Axes>"
      ]
     },
     "metadata": {
      "needs_background": "light"
     },
     "output_type": "display_data"
    }
   ],
   "source": [
    "plot_confusion_matrix(clf, X_test, y_test)"
   ]
  },
  {
   "cell_type": "code",
   "execution_count": 15,
   "metadata": {},
   "outputs": [
    {
     "name": "stdout",
     "output_type": "stream",
     "text": [
      "[0.831781914893617, 0.8317819148936171, 0.9179425973828362]\n",
      "[[ 955  317]\n",
      " [ 189 1547]]\n"
     ]
    }
   ],
   "source": [
    "clf_NB = GaussianNB()\n",
    "clf_NB.fit(X_train, y_train)\n",
    "pred_NB = clf_NB.predict(X_test)\n",
    "pred_NB = average(pred_NB)\n",
    "y_score_2 = clf_NB.predict_proba(X_test)[:,1]\n",
    "acc2 = accuracy_score(y_test, pred_NB)\n",
    "f1_score_2 = metrics.f1_score(y_test, pred_NB, average='micro')\n",
    "roc_2 = metrics.roc_auc_score(y_test, y_score_2, average='micro', multi_class=\"ovo\")\n",
    "print([acc2,f1_score_2,roc_2])\n",
    "print(confusion_matrix(y_test, pred_NB))"
   ]
  },
  {
   "cell_type": "code",
   "execution_count": 16,
   "metadata": {},
   "outputs": [
    {
     "name": "stdout",
     "output_type": "stream",
     "text": [
      "              precision    recall  f1-score   support\n",
      "\n",
      "         0.0       0.83      0.75      0.79      1272\n",
      "         1.0       0.83      0.89      0.86      1736\n",
      "\n",
      "    accuracy                           0.83      3008\n",
      "   macro avg       0.83      0.82      0.83      3008\n",
      "weighted avg       0.83      0.83      0.83      3008\n",
      "\n"
     ]
    }
   ],
   "source": [
    "print(classification_report(y_test, pred_NB))"
   ]
  },
  {
   "cell_type": "code",
   "execution_count": 17,
   "metadata": {},
   "outputs": [
    {
     "data": {
      "text/plain": [
       "<sklearn.metrics._plot.confusion_matrix.ConfusionMatrixDisplay at 0x1a45857c0a0>"
      ]
     },
     "execution_count": 17,
     "metadata": {},
     "output_type": "execute_result"
    },
    {
     "data": {
      "image/png": "[encoded data removed]",
      "text/plain": [
       "<Figure size 432x288 with 2 Axes>"
      ]
     },
     "metadata": {
      "needs_background": "light"
     },
     "output_type": "display_data"
    }
   ],
   "source": [
    "plot_confusion_matrix(clf_NB, X_test, y_test)"
   ]
  },
  {
   "cell_type": "code",
   "execution_count": 18,
   "metadata": {},
   "outputs": [],
   "source": [
    "acc3_list = []\n",
    "f1_score3_list = []\n",
    "roc_3_list = []\n",
    "from sklearn.neighbors import KNeighborsClassifier\n",
    "for i in range(1,30):\n",
    "    neigh = KNeighborsClassifier(n_neighbors=i)\n",
    "    neigh.fit(X_train, y_train) \n",
    "    pred_KN = neigh.predict(X_test)\n",
    "    pred_KN = average(pred_KN)\n",
    "    y_score_3 = neigh.predict_proba(X_test)[:,1]\n",
    "    acc3_list.append(accuracy_score(y_test, pred_KN))\n",
    "    f1_score3_list.append(metrics.f1_score(y_test, pred_KN, average='micro'))\n",
    "    roc_3_list.append(metrics.roc_auc_score(y_test, y_score_3, average='micro', multi_class=\"ovo\"))"
   ]
  },
  {
   "cell_type": "code",
   "execution_count": 19,
   "metadata": {},
   "outputs": [
    {
     "data": {
      "text/plain": [
       "29"
      ]
     },
     "execution_count": 19,
     "metadata": {},
     "output_type": "execute_result"
    }
   ],
   "source": [
    "acc3_list.index(max(acc3_list))+1"
   ]
  },
  {
   "cell_type": "code",
   "execution_count": 20,
   "metadata": {},
   "outputs": [
    {
     "name": "stdout",
     "output_type": "stream",
     "text": [
      "[0.8766622340425532, 0.8766622340425532, 0.9329585017969452]\n",
      "[[1136  136]\n",
      " [ 235 1501]]\n"
     ]
    }
   ],
   "source": [
    "neigh = KNeighborsClassifier(n_neighbors=acc3_list.index(max(acc3_list))+1)\n",
    "neigh.fit(X_train, y_train) \n",
    "pred_KN = neigh.predict(X_test)\n",
    "pred_KN = average(pred_KN)\n",
    "y_score_3 = neigh.predict_proba(X_test)[:,1]\n",
    "acc3 = accuracy_score(y_test, pred_KN)\n",
    "f1_score_3 = metrics.f1_score(y_test, pred_KN, average='micro')\n",
    "roc_3 = metrics.roc_auc_score(y_test, y_score_3, average='micro', multi_class=\"ovo\")\n",
    "print([acc3,f1_score_3,roc_3])\n",
    "print(confusion_matrix(y_test, pred_KN))"
   ]
  },
  {
   "cell_type": "code",
   "execution_count": 21,
   "metadata": {},
   "outputs": [
    {
     "name": "stdout",
     "output_type": "stream",
     "text": [
      "              precision    recall  f1-score   support\n",
      "\n",
      "         0.0       0.83      0.89      0.86      1272\n",
      "         1.0       0.92      0.86      0.89      1736\n",
      "\n",
      "    accuracy                           0.88      3008\n",
      "   macro avg       0.87      0.88      0.87      3008\n",
      "weighted avg       0.88      0.88      0.88      3008\n",
      "\n"
     ]
    }
   ],
   "source": [
    "print(classification_report(y_test, pred_KN))"
   ]
  },
  {
   "cell_type": "code",
   "execution_count": 22,
   "metadata": {},
   "outputs": [
    {
     "data": {
      "text/plain": [
       "<sklearn.metrics._plot.confusion_matrix.ConfusionMatrixDisplay at 0x1a45e4f8520>"
      ]
     },
     "execution_count": 22,
     "metadata": {},
     "output_type": "execute_result"
    },
    {
     "data": {
      "image/png": "[encoded data removed]",
      "text/plain": [
       "<Figure size 432x288 with 2 Axes>"
      ]
     },
     "metadata": {
      "needs_background": "light"
     },
     "output_type": "display_data"
    }
   ],
   "source": [
    "plot_confusion_matrix(neigh, X_test, y_test)"
   ]
  },
  {
   "cell_type": "code",
   "execution_count": 23,
   "metadata": {},
   "outputs": [
    {
     "name": "stderr",
     "output_type": "stream",
     "text": [
      "C:\\ProgramData\\Anaconda3\\lib\\site-packages\\sklearn\\neural_network\\_multilayer_perceptron.py:614: ConvergenceWarning: Stochastic Optimizer: Maximum iterations (200) reached and the optimization hasn't converged yet.\n",
      "  warnings.warn(\n",
      "C:\\ProgramData\\Anaconda3\\lib\\site-packages\\sklearn\\neural_network\\_multilayer_perceptron.py:614: ConvergenceWarning: Stochastic Optimizer: Maximum iterations (200) reached and the optimization hasn't converged yet.\n",
      "  warnings.warn(\n",
      "C:\\ProgramData\\Anaconda3\\lib\\site-packages\\sklearn\\neural_network\\_multilayer_perceptron.py:614: ConvergenceWarning: Stochastic Optimizer: Maximum iterations (200) reached and the optimization hasn't converged yet.\n",
      "  warnings.warn(\n",
      "C:\\ProgramData\\Anaconda3\\lib\\site-packages\\sklearn\\neural_network\\_multilayer_perceptron.py:614: ConvergenceWarning: Stochastic Optimizer: Maximum iterations (200) reached and the optimization hasn't converged yet.\n",
      "  warnings.warn(\n",
      "C:\\ProgramData\\Anaconda3\\lib\\site-packages\\sklearn\\neural_network\\_multilayer_perceptron.py:614: ConvergenceWarning: Stochastic Optimizer: Maximum iterations (200) reached and the optimization hasn't converged yet.\n",
      "  warnings.warn(\n",
      "C:\\ProgramData\\Anaconda3\\lib\\site-packages\\sklearn\\neural_network\\_multilayer_perceptron.py:614: ConvergenceWarning: Stochastic Optimizer: Maximum iterations (200) reached and the optimization hasn't converged yet.\n",
      "  warnings.warn(\n",
      "C:\\ProgramData\\Anaconda3\\lib\\site-packages\\sklearn\\neural_network\\_multilayer_perceptron.py:614: ConvergenceWarning: Stochastic Optimizer: Maximum iterations (200) reached and the optimization hasn't converged yet.\n",
      "  warnings.warn(\n",
      "C:\\ProgramData\\Anaconda3\\lib\\site-packages\\sklearn\\neural_network\\_multilayer_perceptron.py:614: ConvergenceWarning: Stochastic Optimizer: Maximum iterations (200) reached and the optimization hasn't converged yet.\n",
      "  warnings.warn(\n",
      "C:\\ProgramData\\Anaconda3\\lib\\site-packages\\sklearn\\neural_network\\_multilayer_perceptron.py:614: ConvergenceWarning: Stochastic Optimizer: Maximum iterations (200) reached and the optimization hasn't converged yet.\n",
      "  warnings.warn(\n",
      "C:\\ProgramData\\Anaconda3\\lib\\site-packages\\sklearn\\neural_network\\_multilayer_perceptron.py:614: ConvergenceWarning: Stochastic Optimizer: Maximum iterations (200) reached and the optimization hasn't converged yet.\n",
      "  warnings.warn(\n",
      "C:\\ProgramData\\Anaconda3\\lib\\site-packages\\sklearn\\neural_network\\_multilayer_perceptron.py:614: ConvergenceWarning: Stochastic Optimizer: Maximum iterations (200) reached and the optimization hasn't converged yet.\n",
      "  warnings.warn(\n",
      "C:\\ProgramData\\Anaconda3\\lib\\site-packages\\sklearn\\neural_network\\_multilayer_perceptron.py:614: ConvergenceWarning: Stochastic Optimizer: Maximum iterations (200) reached and the optimization hasn't converged yet.\n",
      "  warnings.warn(\n",
      "C:\\ProgramData\\Anaconda3\\lib\\site-packages\\sklearn\\neural_network\\_multilayer_perceptron.py:614: ConvergenceWarning: Stochastic Optimizer: Maximum iterations (200) reached and the optimization hasn't converged yet.\n",
      "  warnings.warn(\n",
      "C:\\ProgramData\\Anaconda3\\lib\\site-packages\\sklearn\\neural_network\\_multilayer_perceptron.py:614: ConvergenceWarning: Stochastic Optimizer: Maximum iterations (200) reached and the optimization hasn't converged yet.\n",
      "  warnings.warn(\n",
      "C:\\ProgramData\\Anaconda3\\lib\\site-packages\\sklearn\\neural_network\\_multilayer_perceptron.py:500: ConvergenceWarning: lbfgs failed to converge (status=1):\n",
      "STOP: TOTAL NO. of ITERATIONS REACHED LIMIT.\n",
      "\n",
      "Increase the number of iterations (max_iter) or scale the data as shown in:\n",
      "    https://scikit-learn.org/stable/modules/preprocessing.html\n",
      "  self.n_iter_ = _check_optimize_result(\"lbfgs\", opt_res, self.max_iter)\n",
      "C:\\ProgramData\\Anaconda3\\lib\\site-packages\\sklearn\\neural_network\\_multilayer_perceptron.py:500: ConvergenceWarning: lbfgs failed to converge (status=1):\n",
      "STOP: TOTAL NO. of ITERATIONS REACHED LIMIT.\n",
      "\n",
      "Increase the number of iterations (max_iter) or scale the data as shown in:\n",
      "    https://scikit-learn.org/stable/modules/preprocessing.html\n",
      "  self.n_iter_ = _check_optimize_result(\"lbfgs\", opt_res, self.max_iter)\n",
      "C:\\ProgramData\\Anaconda3\\lib\\site-packages\\sklearn\\neural_network\\_multilayer_perceptron.py:500: ConvergenceWarning: lbfgs failed to converge (status=1):\n",
      "STOP: TOTAL NO. of ITERATIONS REACHED LIMIT.\n",
      "\n",
      "Increase the number of iterations (max_iter) or scale the data as shown in:\n",
      "    https://scikit-learn.org/stable/modules/preprocessing.html\n",
      "  self.n_iter_ = _check_optimize_result(\"lbfgs\", opt_res, self.max_iter)\n",
      "C:\\ProgramData\\Anaconda3\\lib\\site-packages\\sklearn\\neural_network\\_multilayer_perceptron.py:500: ConvergenceWarning: lbfgs failed to converge (status=1):\n",
      "STOP: TOTAL NO. of ITERATIONS REACHED LIMIT.\n",
      "\n",
      "Increase the number of iterations (max_iter) or scale the data as shown in:\n",
      "    https://scikit-learn.org/stable/modules/preprocessing.html\n",
      "  self.n_iter_ = _check_optimize_result(\"lbfgs\", opt_res, self.max_iter)\n",
      "C:\\ProgramData\\Anaconda3\\lib\\site-packages\\sklearn\\neural_network\\_multilayer_perceptron.py:500: ConvergenceWarning: lbfgs failed to converge (status=1):\n",
      "STOP: TOTAL NO. of ITERATIONS REACHED LIMIT.\n",
      "\n",
      "Increase the number of iterations (max_iter) or scale the data as shown in:\n",
      "    https://scikit-learn.org/stable/modules/preprocessing.html\n",
      "  self.n_iter_ = _check_optimize_result(\"lbfgs\", opt_res, self.max_iter)\n",
      "C:\\ProgramData\\Anaconda3\\lib\\site-packages\\sklearn\\neural_network\\_multilayer_perceptron.py:500: ConvergenceWarning: lbfgs failed to converge (status=1):\n",
      "STOP: TOTAL NO. of ITERATIONS REACHED LIMIT.\n",
      "\n",
      "Increase the number of iterations (max_iter) or scale the data as shown in:\n",
      "    https://scikit-learn.org/stable/modules/preprocessing.html\n",
      "  self.n_iter_ = _check_optimize_result(\"lbfgs\", opt_res, self.max_iter)\n",
      "C:\\ProgramData\\Anaconda3\\lib\\site-packages\\sklearn\\neural_network\\_multilayer_perceptron.py:500: ConvergenceWarning: lbfgs failed to converge (status=1):\n",
      "STOP: TOTAL NO. of ITERATIONS REACHED LIMIT.\n",
      "\n",
      "Increase the number of iterations (max_iter) or scale the data as shown in:\n",
      "    https://scikit-learn.org/stable/modules/preprocessing.html\n",
      "  self.n_iter_ = _check_optimize_result(\"lbfgs\", opt_res, self.max_iter)\n",
      "C:\\ProgramData\\Anaconda3\\lib\\site-packages\\sklearn\\neural_network\\_multilayer_perceptron.py:614: ConvergenceWarning: Stochastic Optimizer: Maximum iterations (200) reached and the optimization hasn't converged yet.\n",
      "  warnings.warn(\n",
      "C:\\ProgramData\\Anaconda3\\lib\\site-packages\\sklearn\\neural_network\\_multilayer_perceptron.py:614: ConvergenceWarning: Stochastic Optimizer: Maximum iterations (200) reached and the optimization hasn't converged yet.\n",
      "  warnings.warn(\n",
      "C:\\ProgramData\\Anaconda3\\lib\\site-packages\\sklearn\\neural_network\\_multilayer_perceptron.py:614: ConvergenceWarning: Stochastic Optimizer: Maximum iterations (200) reached and the optimization hasn't converged yet.\n",
      "  warnings.warn(\n",
      "C:\\ProgramData\\Anaconda3\\lib\\site-packages\\sklearn\\neural_network\\_multilayer_perceptron.py:614: ConvergenceWarning: Stochastic Optimizer: Maximum iterations (200) reached and the optimization hasn't converged yet.\n",
      "  warnings.warn(\n",
      "C:\\ProgramData\\Anaconda3\\lib\\site-packages\\sklearn\\neural_network\\_multilayer_perceptron.py:614: ConvergenceWarning: Stochastic Optimizer: Maximum iterations (200) reached and the optimization hasn't converged yet.\n",
      "  warnings.warn(\n",
      "C:\\ProgramData\\Anaconda3\\lib\\site-packages\\sklearn\\neural_network\\_multilayer_perceptron.py:614: ConvergenceWarning: Stochastic Optimizer: Maximum iterations (200) reached and the optimization hasn't converged yet.\n",
      "  warnings.warn(\n",
      "C:\\ProgramData\\Anaconda3\\lib\\site-packages\\sklearn\\neural_network\\_multilayer_perceptron.py:614: ConvergenceWarning: Stochastic Optimizer: Maximum iterations (200) reached and the optimization hasn't converged yet.\n",
      "  warnings.warn(\n",
      "C:\\ProgramData\\Anaconda3\\lib\\site-packages\\sklearn\\neural_network\\_multilayer_perceptron.py:614: ConvergenceWarning: Stochastic Optimizer: Maximum iterations (200) reached and the optimization hasn't converged yet.\n",
      "  warnings.warn(\n",
      "C:\\ProgramData\\Anaconda3\\lib\\site-packages\\sklearn\\neural_network\\_multilayer_perceptron.py:614: ConvergenceWarning: Stochastic Optimizer: Maximum iterations (200) reached and the optimization hasn't converged yet.\n",
      "  warnings.warn(\n",
      "C:\\ProgramData\\Anaconda3\\lib\\site-packages\\sklearn\\neural_network\\_multilayer_perceptron.py:614: ConvergenceWarning: Stochastic Optimizer: Maximum iterations (200) reached and the optimization hasn't converged yet.\n",
      "  warnings.warn(\n",
      "C:\\ProgramData\\Anaconda3\\lib\\site-packages\\sklearn\\neural_network\\_multilayer_perceptron.py:614: ConvergenceWarning: Stochastic Optimizer: Maximum iterations (200) reached and the optimization hasn't converged yet.\n",
      "  warnings.warn(\n",
      "C:\\ProgramData\\Anaconda3\\lib\\site-packages\\sklearn\\neural_network\\_multilayer_perceptron.py:614: ConvergenceWarning: Stochastic Optimizer: Maximum iterations (200) reached and the optimization hasn't converged yet.\n",
      "  warnings.warn(\n",
      "C:\\ProgramData\\Anaconda3\\lib\\site-packages\\sklearn\\neural_network\\_multilayer_perceptron.py:614: ConvergenceWarning: Stochastic Optimizer: Maximum iterations (200) reached and the optimization hasn't converged yet.\n",
      "  warnings.warn(\n",
      "C:\\ProgramData\\Anaconda3\\lib\\site-packages\\sklearn\\neural_network\\_multilayer_perceptron.py:614: ConvergenceWarning: Stochastic Optimizer: Maximum iterations (200) reached and the optimization hasn't converged yet.\n",
      "  warnings.warn(\n",
      "C:\\ProgramData\\Anaconda3\\lib\\site-packages\\sklearn\\neural_network\\_multilayer_perceptron.py:500: ConvergenceWarning: lbfgs failed to converge (status=1):\n",
      "STOP: TOTAL NO. of ITERATIONS REACHED LIMIT.\n",
      "\n",
      "Increase the number of iterations (max_iter) or scale the data as shown in:\n",
      "    https://scikit-learn.org/stable/modules/preprocessing.html\n",
      "  self.n_iter_ = _check_optimize_result(\"lbfgs\", opt_res, self.max_iter)\n",
      "C:\\ProgramData\\Anaconda3\\lib\\site-packages\\sklearn\\neural_network\\_multilayer_perceptron.py:500: ConvergenceWarning: lbfgs failed to converge (status=1):\n",
      "STOP: TOTAL NO. of ITERATIONS REACHED LIMIT.\n",
      "\n",
      "Increase the number of iterations (max_iter) or scale the data as shown in:\n",
      "    https://scikit-learn.org/stable/modules/preprocessing.html\n",
      "  self.n_iter_ = _check_optimize_result(\"lbfgs\", opt_res, self.max_iter)\n",
      "C:\\ProgramData\\Anaconda3\\lib\\site-packages\\sklearn\\neural_network\\_multilayer_perceptron.py:500: ConvergenceWarning: lbfgs failed to converge (status=1):\n",
      "STOP: TOTAL NO. of ITERATIONS REACHED LIMIT.\n",
      "\n",
      "Increase the number of iterations (max_iter) or scale the data as shown in:\n",
      "    https://scikit-learn.org/stable/modules/preprocessing.html\n",
      "  self.n_iter_ = _check_optimize_result(\"lbfgs\", opt_res, self.max_iter)\n",
      "C:\\ProgramData\\Anaconda3\\lib\\site-packages\\sklearn\\neural_network\\_multilayer_perceptron.py:500: ConvergenceWarning: lbfgs failed to converge (status=1):\n",
      "STOP: TOTAL NO. of ITERATIONS REACHED LIMIT.\n",
      "\n",
      "Increase the number of iterations (max_iter) or scale the data as shown in:\n",
      "    https://scikit-learn.org/stable/modules/preprocessing.html\n",
      "  self.n_iter_ = _check_optimize_result(\"lbfgs\", opt_res, self.max_iter)\n",
      "C:\\ProgramData\\Anaconda3\\lib\\site-packages\\sklearn\\neural_network\\_multilayer_perceptron.py:500: ConvergenceWarning: lbfgs failed to converge (status=1):\n",
      "STOP: TOTAL NO. of ITERATIONS REACHED LIMIT.\n",
      "\n",
      "Increase the number of iterations (max_iter) or scale the data as shown in:\n",
      "    https://scikit-learn.org/stable/modules/preprocessing.html\n",
      "  self.n_iter_ = _check_optimize_result(\"lbfgs\", opt_res, self.max_iter)\n",
      "C:\\ProgramData\\Anaconda3\\lib\\site-packages\\sklearn\\neural_network\\_multilayer_perceptron.py:500: ConvergenceWarning: lbfgs failed to converge (status=1):\n",
      "STOP: TOTAL NO. of ITERATIONS REACHED LIMIT.\n",
      "\n",
      "Increase the number of iterations (max_iter) or scale the data as shown in:\n",
      "    https://scikit-learn.org/stable/modules/preprocessing.html\n",
      "  self.n_iter_ = _check_optimize_result(\"lbfgs\", opt_res, self.max_iter)\n",
      "C:\\ProgramData\\Anaconda3\\lib\\site-packages\\sklearn\\neural_network\\_multilayer_perceptron.py:500: ConvergenceWarning: lbfgs failed to converge (status=1):\n",
      "STOP: TOTAL NO. of ITERATIONS REACHED LIMIT.\n",
      "\n",
      "Increase the number of iterations (max_iter) or scale the data as shown in:\n",
      "    https://scikit-learn.org/stable/modules/preprocessing.html\n",
      "  self.n_iter_ = _check_optimize_result(\"lbfgs\", opt_res, self.max_iter)\n",
      "C:\\ProgramData\\Anaconda3\\lib\\site-packages\\sklearn\\neural_network\\_multilayer_perceptron.py:614: ConvergenceWarning: Stochastic Optimizer: Maximum iterations (200) reached and the optimization hasn't converged yet.\n",
      "  warnings.warn(\n",
      "C:\\ProgramData\\Anaconda3\\lib\\site-packages\\sklearn\\neural_network\\_multilayer_perceptron.py:614: ConvergenceWarning: Stochastic Optimizer: Maximum iterations (200) reached and the optimization hasn't converged yet.\n",
      "  warnings.warn(\n",
      "C:\\ProgramData\\Anaconda3\\lib\\site-packages\\sklearn\\neural_network\\_multilayer_perceptron.py:614: ConvergenceWarning: Stochastic Optimizer: Maximum iterations (200) reached and the optimization hasn't converged yet.\n",
      "  warnings.warn(\n",
      "C:\\ProgramData\\Anaconda3\\lib\\site-packages\\sklearn\\neural_network\\_multilayer_perceptron.py:614: ConvergenceWarning: Stochastic Optimizer: Maximum iterations (200) reached and the optimization hasn't converged yet.\n",
      "  warnings.warn(\n",
      "C:\\ProgramData\\Anaconda3\\lib\\site-packages\\sklearn\\neural_network\\_multilayer_perceptron.py:614: ConvergenceWarning: Stochastic Optimizer: Maximum iterations (200) reached and the optimization hasn't converged yet.\n",
      "  warnings.warn(\n",
      "C:\\ProgramData\\Anaconda3\\lib\\site-packages\\sklearn\\neural_network\\_multilayer_perceptron.py:614: ConvergenceWarning: Stochastic Optimizer: Maximum iterations (200) reached and the optimization hasn't converged yet.\n",
      "  warnings.warn(\n",
      "C:\\ProgramData\\Anaconda3\\lib\\site-packages\\sklearn\\neural_network\\_multilayer_perceptron.py:614: ConvergenceWarning: Stochastic Optimizer: Maximum iterations (200) reached and the optimization hasn't converged yet.\n",
      "  warnings.warn(\n",
      "C:\\ProgramData\\Anaconda3\\lib\\site-packages\\sklearn\\neural_network\\_multilayer_perceptron.py:614: ConvergenceWarning: Stochastic Optimizer: Maximum iterations (200) reached and the optimization hasn't converged yet.\n",
      "  warnings.warn(\n",
      "C:\\ProgramData\\Anaconda3\\lib\\site-packages\\sklearn\\neural_network\\_multilayer_perceptron.py:614: ConvergenceWarning: Stochastic Optimizer: Maximum iterations (200) reached and the optimization hasn't converged yet.\n",
      "  warnings.warn(\n",
      "C:\\ProgramData\\Anaconda3\\lib\\site-packages\\sklearn\\neural_network\\_multilayer_perceptron.py:614: ConvergenceWarning: Stochastic Optimizer: Maximum iterations (200) reached and the optimization hasn't converged yet.\n",
      "  warnings.warn(\n",
      "C:\\ProgramData\\Anaconda3\\lib\\site-packages\\sklearn\\neural_network\\_multilayer_perceptron.py:614: ConvergenceWarning: Stochastic Optimizer: Maximum iterations (200) reached and the optimization hasn't converged yet.\n",
      "  warnings.warn(\n",
      "C:\\ProgramData\\Anaconda3\\lib\\site-packages\\sklearn\\neural_network\\_multilayer_perceptron.py:500: ConvergenceWarning: lbfgs failed to converge (status=1):\n",
      "STOP: TOTAL NO. of ITERATIONS REACHED LIMIT.\n",
      "\n",
      "Increase the number of iterations (max_iter) or scale the data as shown in:\n",
      "    https://scikit-learn.org/stable/modules/preprocessing.html\n",
      "  self.n_iter_ = _check_optimize_result(\"lbfgs\", opt_res, self.max_iter)\n",
      "C:\\ProgramData\\Anaconda3\\lib\\site-packages\\sklearn\\neural_network\\_multilayer_perceptron.py:500: ConvergenceWarning: lbfgs failed to converge (status=1):\n",
      "STOP: TOTAL NO. of ITERATIONS REACHED LIMIT.\n",
      "\n",
      "Increase the number of iterations (max_iter) or scale the data as shown in:\n",
      "    https://scikit-learn.org/stable/modules/preprocessing.html\n",
      "  self.n_iter_ = _check_optimize_result(\"lbfgs\", opt_res, self.max_iter)\n",
      "C:\\ProgramData\\Anaconda3\\lib\\site-packages\\sklearn\\neural_network\\_multilayer_perceptron.py:500: ConvergenceWarning: lbfgs failed to converge (status=1):\n",
      "STOP: TOTAL NO. of ITERATIONS REACHED LIMIT.\n",
      "\n",
      "Increase the number of iterations (max_iter) or scale the data as shown in:\n",
      "    https://scikit-learn.org/stable/modules/preprocessing.html\n",
      "  self.n_iter_ = _check_optimize_result(\"lbfgs\", opt_res, self.max_iter)\n",
      "C:\\ProgramData\\Anaconda3\\lib\\site-packages\\sklearn\\neural_network\\_multilayer_perceptron.py:500: ConvergenceWarning: lbfgs failed to converge (status=1):\n",
      "STOP: TOTAL NO. of ITERATIONS REACHED LIMIT.\n",
      "\n",
      "Increase the number of iterations (max_iter) or scale the data as shown in:\n",
      "    https://scikit-learn.org/stable/modules/preprocessing.html\n",
      "  self.n_iter_ = _check_optimize_result(\"lbfgs\", opt_res, self.max_iter)\n",
      "C:\\ProgramData\\Anaconda3\\lib\\site-packages\\sklearn\\neural_network\\_multilayer_perceptron.py:500: ConvergenceWarning: lbfgs failed to converge (status=1):\n",
      "STOP: TOTAL NO. of ITERATIONS REACHED LIMIT.\n",
      "\n",
      "Increase the number of iterations (max_iter) or scale the data as shown in:\n",
      "    https://scikit-learn.org/stable/modules/preprocessing.html\n",
      "  self.n_iter_ = _check_optimize_result(\"lbfgs\", opt_res, self.max_iter)\n",
      "C:\\ProgramData\\Anaconda3\\lib\\site-packages\\sklearn\\neural_network\\_multilayer_perceptron.py:500: ConvergenceWarning: lbfgs failed to converge (status=1):\n",
      "STOP: TOTAL NO. of ITERATIONS REACHED LIMIT.\n",
      "\n",
      "Increase the number of iterations (max_iter) or scale the data as shown in:\n",
      "    https://scikit-learn.org/stable/modules/preprocessing.html\n",
      "  self.n_iter_ = _check_optimize_result(\"lbfgs\", opt_res, self.max_iter)\n",
      "C:\\ProgramData\\Anaconda3\\lib\\site-packages\\sklearn\\neural_network\\_multilayer_perceptron.py:500: ConvergenceWarning: lbfgs failed to converge (status=1):\n",
      "STOP: TOTAL NO. of ITERATIONS REACHED LIMIT.\n",
      "\n",
      "Increase the number of iterations (max_iter) or scale the data as shown in:\n",
      "    https://scikit-learn.org/stable/modules/preprocessing.html\n",
      "  self.n_iter_ = _check_optimize_result(\"lbfgs\", opt_res, self.max_iter)\n"
     ]
    }
   ],
   "source": [
    "from sklearn.neural_network import MLPClassifier\n",
    "\n",
    "F1_score_4_list = []\n",
    "acc4_list = []\n",
    "roc_4_list = []\n",
    "mlp = []\n",
    "\n",
    "hidden_units = [10,20,30,40,50,60,70]\n",
    "optimizer = ['sgd','adam','lbfgs']\n",
    "activation = ['logistic','tanh','relu']\n",
    "for j in activation:\n",
    "    for i in optimizer:\n",
    "        for k in hidden_units:\n",
    "            clf_MLP = MLPClassifier(hidden_layer_sizes= k, activation =  j, solver= i)\n",
    "            clf_MLP.fit(X_train, y_train)\n",
    "            pred_MLP = clf_MLP.predict(X_test)\n",
    "            pred_MLP = average(pred_MLP)\n",
    "            y_score_4 = clf_MLP.predict_proba(X_test)[:,1]\n",
    "            acc4_list.append(accuracy_score(y_test,pred_MLP))\n",
    "            roc_4_list.append(metrics.roc_auc_score(y_test, y_score_4, average='micro', multi_class=\"ovo\"))\n",
    "            F1_score_4_list.append(metrics.f1_score(y_test, pred_MLP, average='micro'))\n",
    "            mlp.append([j,i,k])"
   ]
  },
  {
   "cell_type": "code",
   "execution_count": 24,
   "metadata": {},
   "outputs": [
    {
     "name": "stdout",
     "output_type": "stream",
     "text": [
      "Best Accuracy:  0.8853058510638298\n",
      "Best Combination: ['relu', 'lbfgs', 40]\n"
     ]
    }
   ],
   "source": [
    "print(\"Best Accuracy: \", max(acc4_list))\n",
    "min_index = acc4_list.index(max(acc4_list))\n",
    "print(\"Best Combination:\", mlp[min_index])"
   ]
  },
  {
   "cell_type": "code",
   "execution_count": 25,
   "metadata": {},
   "outputs": [
    {
     "name": "stdout",
     "output_type": "stream",
     "text": [
      "[0.8141622340425532, 0.8141622340425533, 0.9380425252876562]\n",
      "[[1243   29]\n",
      " [ 530 1206]]\n"
     ]
    },
    {
     "name": "stderr",
     "output_type": "stream",
     "text": [
      "C:\\ProgramData\\Anaconda3\\lib\\site-packages\\sklearn\\neural_network\\_multilayer_perceptron.py:500: ConvergenceWarning: lbfgs failed to converge (status=1):\n",
      "STOP: TOTAL NO. of ITERATIONS REACHED LIMIT.\n",
      "\n",
      "Increase the number of iterations (max_iter) or scale the data as shown in:\n",
      "    https://scikit-learn.org/stable/modules/preprocessing.html\n",
      "  self.n_iter_ = _check_optimize_result(\"lbfgs\", opt_res, self.max_iter)\n",
      "C:\\ProgramData\\Anaconda3\\lib\\site-packages\\sklearn\\metrics\\_classification.py:1298: UserWarning: Note that pos_label (set to 10.0) is ignored when average != 'binary' (got 'micro'). You may use labels=[pos_label] to specify a single positive class.\n",
      "  warnings.warn(\"Note that pos_label (set to %r) is ignored when \"\n"
     ]
    }
   ],
   "source": [
    "clf_MLP = MLPClassifier(hidden_layer_sizes= mlp[min_index][2], activation =  mlp[min_index][0], solver= mlp[min_index][1])\n",
    "clf_MLP.fit(X_train, y_train)\n",
    "pred_MLP = clf_MLP.predict(X_test)\n",
    "pred_MLP = average(pred_MLP)\n",
    "y_score_4 = clf_MLP.predict_proba(X_test)[:,1]\n",
    "acc4 = accuracy_score(y_test,pred_MLP)\n",
    "f1_score_4 = metrics.f1_score(y_test, pred_MLP, pos_label=10.0, average='micro')\n",
    "roc_4 = metrics.roc_auc_score(y_test, y_score_4, average='micro', multi_class=\"ovo\")\n",
    "print([acc4,f1_score_4,roc_4])\n",
    "print(confusion_matrix(y_test, pred_MLP))"
   ]
  },
  {
   "cell_type": "code",
   "execution_count": 26,
   "metadata": {},
   "outputs": [
    {
     "name": "stdout",
     "output_type": "stream",
     "text": [
      "              precision    recall  f1-score   support\n",
      "\n",
      "         0.0       0.70      0.98      0.82      1272\n",
      "         1.0       0.98      0.69      0.81      1736\n",
      "\n",
      "    accuracy                           0.81      3008\n",
      "   macro avg       0.84      0.84      0.81      3008\n",
      "weighted avg       0.86      0.81      0.81      3008\n",
      "\n"
     ]
    }
   ],
   "source": [
    "print(classification_report(y_test, pred_MLP))"
   ]
  },
  {
   "cell_type": "code",
   "execution_count": 27,
   "metadata": {},
   "outputs": [
    {
     "data": {
      "text/plain": [
       "<sklearn.metrics._plot.confusion_matrix.ConfusionMatrixDisplay at 0x1a45e432eb0>"
      ]
     },
     "execution_count": 27,
     "metadata": {},
     "output_type": "execute_result"
    },
    {
     "data": {
      "image/png": "[encoded data removed]",
      "text/plain": [
       "<Figure size 432x288 with 2 Axes>"
      ]
     },
     "metadata": {
      "needs_background": "light"
     },
     "output_type": "display_data"
    }
   ],
   "source": [
    "plot_confusion_matrix(clf_MLP, X_test, y_test)"
   ]
  },
  {
   "cell_type": "code",
   "execution_count": 28,
   "metadata": {},
   "outputs": [
    {
     "name": "stdout",
     "output_type": "stream",
     "text": [
      "0.867686170212766\n"
     ]
    }
   ],
   "source": [
    "from sklearn.tree import DecisionTreeClassifier\n",
    "acc5=[]\n",
    "max_depth = []\n",
    "for i in [2,3,4,5,6,7,8,9,10]:\n",
    "    clf_DT = DecisionTreeClassifier(random_state=0, max_depth = i)\n",
    "    clf_DT.fit(X_train, y_train)\n",
    "    pred_DT = clf_DT.predict(X_test)\n",
    "    pred_DT = average(pred_DT)\n",
    "    acc5.append(accuracy_score(pred_DT, y_test))\n",
    "    max_depth.append(i)\n",
    "print (max(acc5))"
   ]
  },
  {
   "cell_type": "code",
   "execution_count": 29,
   "metadata": {},
   "outputs": [
    {
     "data": {
      "text/plain": [
       "5"
      ]
     },
     "execution_count": 29,
     "metadata": {},
     "output_type": "execute_result"
    }
   ],
   "source": [
    "best_depth = max_depth[acc5.index(max(acc5))]\n",
    "best_depth"
   ]
  },
  {
   "cell_type": "code",
   "execution_count": 30,
   "metadata": {},
   "outputs": [
    {
     "name": "stdout",
     "output_type": "stream",
     "text": [
      "[0.867686170212766, 0.867686170212766, 0.8289156921137292]\n",
      "[[1223   49]\n",
      " [ 349 1387]]\n"
     ]
    }
   ],
   "source": [
    "clf_DT = DecisionTreeClassifier(random_state=0, max_depth = best_depth)\n",
    "clf_DT.fit(X_train, y_train)\n",
    "pred_DT = clf_DT.predict(X_test)\n",
    "pred_DT = average(pred_DT)\n",
    "y_score_5 = clf_DT.predict_proba(X_test)[:,1]\n",
    "acc5 = accuracy_score(y_test, pred_DT)\n",
    "f1_score_5 = metrics.f1_score(y_test, pred_DT, average='micro')\n",
    "roc_5 = metrics.roc_auc_score(y_test, y_score_5, average='micro', multi_class=\"ovo\")\n",
    "print([acc5,f1_score_5,roc_5])\n",
    "print(confusion_matrix(y_test, pred_DT))"
   ]
  },
  {
   "cell_type": "code",
   "execution_count": 31,
   "metadata": {},
   "outputs": [
    {
     "name": "stdout",
     "output_type": "stream",
     "text": [
      "              precision    recall  f1-score   support\n",
      "\n",
      "         0.0       0.78      0.96      0.86      1272\n",
      "         1.0       0.97      0.80      0.87      1736\n",
      "\n",
      "    accuracy                           0.87      3008\n",
      "   macro avg       0.87      0.88      0.87      3008\n",
      "weighted avg       0.89      0.87      0.87      3008\n",
      "\n"
     ]
    }
   ],
   "source": [
    "print(classification_report(y_test, pred_DT))"
   ]
  },
  {
   "cell_type": "code",
   "execution_count": 32,
   "metadata": {},
   "outputs": [
    {
     "data": {
      "text/plain": [
       "<sklearn.metrics._plot.confusion_matrix.ConfusionMatrixDisplay at 0x1a45e5e2bb0>"
      ]
     },
     "execution_count": 32,
     "metadata": {},
     "output_type": "execute_result"
    },
    {
     "data": {
      "image/png": "[encoded data removed]",
      "text/plain": [
       "<Figure size 432x288 with 2 Axes>"
      ]
     },
     "metadata": {
      "needs_background": "light"
     },
     "output_type": "display_data"
    }
   ],
   "source": [
    "plot_confusion_matrix(clf_DT, X_test, y_test)"
   ]
  },
  {
   "cell_type": "code",
   "execution_count": 33,
   "metadata": {},
   "outputs": [
    {
     "name": "stdout",
     "output_type": "stream",
     "text": [
      "0.8809840425531915\n"
     ]
    }
   ],
   "source": [
    "from sklearn.ensemble import RandomForestClassifier\n",
    "acc6=[]\n",
    "max_depth = []\n",
    "for i in range(1,10):\n",
    "    clf_RF = RandomForestClassifier(max_depth=i)\n",
    "    clf_RF.fit(X_train, y_train) \n",
    "    pred_RF = clf_RF.predict(X_test)\n",
    "    pred_RF = average(pred_RF)\n",
    "    acc6.append(accuracy_score(pred_RF, y_test))\n",
    "    max_depth.append(i)\n",
    "print (max(acc6))"
   ]
  },
  {
   "cell_type": "code",
   "execution_count": 34,
   "metadata": {},
   "outputs": [
    {
     "data": {
      "text/plain": [
       "4"
      ]
     },
     "execution_count": 34,
     "metadata": {},
     "output_type": "execute_result"
    }
   ],
   "source": [
    "best_depth_6 = max_depth[acc6.index(max(acc6))]\n",
    "best_depth_6"
   ]
  },
  {
   "cell_type": "code",
   "execution_count": 35,
   "metadata": {},
   "outputs": [
    {
     "name": "stdout",
     "output_type": "stream",
     "text": [
      "[0.8816489361702128, 0.8816489361702128, 0.9333081090774715]\n",
      "[[1193   79]\n",
      " [ 277 1459]]\n"
     ]
    }
   ],
   "source": [
    "clf_RF = RandomForestClassifier(max_depth=best_depth_6)\n",
    "clf_RF.fit(X_train, y_train) \n",
    "pred_RF = clf_RF.predict(X_test)\n",
    "pred_RF = average(pred_RF)\n",
    "y_score_6 = clf_RF.predict_proba(X_test)[:,1]\n",
    "acc6 = accuracy_score(y_test, pred_RF)\n",
    "f1_score_6 = metrics.f1_score(y_test, pred_RF, average='micro')\n",
    "roc_6 = metrics.roc_auc_score(y_test, y_score_6, average='micro', multi_class=\"ovo\")\n",
    "print([acc6,f1_score_6,roc_6])\n",
    "print(confusion_matrix(y_test, pred_RF))\n",
    "\n",
    "feature_importances = pd.DataFrame(clf_RF.feature_importances_,\n",
    "                                   index = X_train.columns,\n",
    "                                    columns=['importance']).sort_values('importance',ascending=False)"
   ]
  },
  {
   "cell_type": "code",
   "execution_count": 36,
   "metadata": {},
   "outputs": [
    {
     "name": "stdout",
     "output_type": "stream",
     "text": [
      "              precision    recall  f1-score   support\n",
      "\n",
      "         0.0       0.81      0.94      0.87      1272\n",
      "         1.0       0.95      0.84      0.89      1736\n",
      "\n",
      "    accuracy                           0.88      3008\n",
      "   macro avg       0.88      0.89      0.88      3008\n",
      "weighted avg       0.89      0.88      0.88      3008\n",
      "\n"
     ]
    }
   ],
   "source": [
    "print(classification_report(y_test, pred_RF))"
   ]
  },
  {
   "cell_type": "code",
   "execution_count": 37,
   "metadata": {},
   "outputs": [
    {
     "data": {
      "text/plain": [
       "<sklearn.metrics._plot.confusion_matrix.ConfusionMatrixDisplay at 0x1a460e21e80>"
      ]
     },
     "execution_count": 37,
     "metadata": {},
     "output_type": "execute_result"
    },
    {
     "data": {
      "image/png": "[encoded data removed]",
      "text/plain": [
       "<Figure size 432x288 with 2 Axes>"
      ]
     },
     "metadata": {
      "needs_background": "light"
     },
     "output_type": "display_data"
    }
   ],
   "source": [
    "plot_confusion_matrix(clf_RF, X_test, y_test)"
   ]
  },
  {
   "cell_type": "code",
   "execution_count": 38,
   "metadata": {},
   "outputs": [],
   "source": [
    "#!pip install xgboost"
   ]
  },
  {
   "cell_type": "code",
   "execution_count": 39,
   "metadata": {},
   "outputs": [
    {
     "name": "stdout",
     "output_type": "stream",
     "text": [
      "[0.793218085106383, 0.793218085106383, 0.8680015143610702]\n",
      "[[1253   19]\n",
      " [ 603 1133]]\n"
     ]
    }
   ],
   "source": [
    "from numpy import loadtxt\n",
    "from xgboost import XGBClassifier\n",
    "from sklearn.metrics import accuracy_score\n",
    "from numpy import loadtxt\n",
    "from xgboost import XGBClassifier\n",
    "\n",
    "clf_XGB = XGBClassifier()\n",
    "clf_XGB.fit(X_train, y_train)\n",
    "pred_XGB = clf_XGB.predict(X_test)\n",
    "pred_XGB = average(pred_XGB)\n",
    "y_score_8 = clf_XGB.predict_proba(X_test)[:,1]\n",
    "acc8 = accuracy_score(y_test,pred_XGB)\n",
    "f1_score_8 = metrics.f1_score(y_test, pred_XGB, average='micro')\n",
    "roc_8 = metrics.roc_auc_score(y_test, y_score_8, average='micro', multi_class=\"ovo\")\n",
    "print([acc8,f1_score_8,roc_8])\n",
    "print(confusion_matrix(y_test, pred_XGB))"
   ]
  },
  {
   "cell_type": "code",
   "execution_count": 40,
   "metadata": {},
   "outputs": [
    {
     "name": "stdout",
     "output_type": "stream",
     "text": [
      "              precision    recall  f1-score   support\n",
      "\n",
      "         0.0       0.68      0.99      0.80      1272\n",
      "         1.0       0.98      0.65      0.78      1736\n",
      "\n",
      "    accuracy                           0.79      3008\n",
      "   macro avg       0.83      0.82      0.79      3008\n",
      "weighted avg       0.85      0.79      0.79      3008\n",
      "\n"
     ]
    }
   ],
   "source": [
    "print(classification_report(y_test, pred_XGB))"
   ]
  },
  {
   "cell_type": "code",
   "execution_count": 41,
   "metadata": {},
   "outputs": [
    {
     "data": {
      "text/plain": [
       "<sklearn.metrics._plot.confusion_matrix.ConfusionMatrixDisplay at 0x1a45e6f8520>"
      ]
     },
     "execution_count": 41,
     "metadata": {},
     "output_type": "execute_result"
    },
    {
     "data": {
      "image/png": "[encoded data removed]",
      "text/plain": [
       "<Figure size 432x288 with 2 Axes>"
      ]
     },
     "metadata": {
      "needs_background": "light"
     },
     "output_type": "display_data"
    }
   ],
   "source": [
    "plot_confusion_matrix(clf_XGB, X_test, y_test)"
   ]
  },
  {
   "cell_type": "code",
   "execution_count": 42,
   "metadata": {},
   "outputs": [
    {
     "data": {
      "text/html": [
       "<div>\n",
       "<style scoped>\n",
       "    .dataframe tbody tr th:only-of-type {\n",
       "        vertical-align: middle;\n",
       "    }\n",
       "\n",
       "    .dataframe tbody tr th {\n",
       "        vertical-align: top;\n",
       "    }\n",
       "\n",
       "    .dataframe thead th {\n",
       "        text-align: right;\n",
       "    }\n",
       "</style>\n",
       "<table border=\"1\" class=\"dataframe\">\n",
       "  <thead>\n",
       "    <tr style=\"text-align: right;\">\n",
       "      <th></th>\n",
       "      <th>importance</th>\n",
       "    </tr>\n",
       "  </thead>\n",
       "  <tbody>\n",
       "    <tr>\n",
       "      <th>MOE_N</th>\n",
       "      <td>0.325734</td>\n",
       "    </tr>\n",
       "    <tr>\n",
       "      <th>MAR_N</th>\n",
       "      <td>0.201276</td>\n",
       "    </tr>\n",
       "    <tr>\n",
       "      <th>MOE</th>\n",
       "      <td>0.138188</td>\n",
       "    </tr>\n",
       "    <tr>\n",
       "      <th>EAR_N</th>\n",
       "      <td>0.109863</td>\n",
       "    </tr>\n",
       "    <tr>\n",
       "      <th>EAR</th>\n",
       "      <td>0.086567</td>\n",
       "    </tr>\n",
       "    <tr>\n",
       "      <th>MAR</th>\n",
       "      <td>0.055105</td>\n",
       "    </tr>\n",
       "    <tr>\n",
       "      <th>Circularity_N</th>\n",
       "      <td>0.042791</td>\n",
       "    </tr>\n",
       "    <tr>\n",
       "      <th>Circularity</th>\n",
       "      <td>0.040476</td>\n",
       "    </tr>\n",
       "  </tbody>\n",
       "</table>\n",
       "</div>"
      ],
      "text/plain": [
       "               importance\n",
       "MOE_N            0.325734\n",
       "MAR_N            0.201276\n",
       "MOE              0.138188\n",
       "EAR_N            0.109863\n",
       "EAR              0.086567\n",
       "MAR              0.055105\n",
       "Circularity_N    0.042791\n",
       "Circularity      0.040476"
      ]
     },
     "execution_count": 42,
     "metadata": {},
     "output_type": "execute_result"
    }
   ],
   "source": [
    "feature_importances"
   ]
  },
  {
   "cell_type": "code",
   "execution_count": 43,
   "metadata": {},
   "outputs": [
    {
     "data": {
      "image/png": "[encoded data removed]",
      "text/plain": [
       "<Figure size 720x504 with 1 Axes>"
      ]
     },
     "metadata": {},
     "output_type": "display_data"
    }
   ],
   "source": [
    " # Creating dataset\n",
    "cars = ['MOE_N', 'MAR_N', 'MOE',\n",
    "        'EAR_N', 'EAR', 'MAR','Participant', 'Circularity', 'Circularity_N']\n",
    " \n",
    "data = [0.359541*100, 0.1983171*100, 0.170130*100, 0.096813*100, 0.053846*100, 0.048162*100, 0.040690*100, 0.017931*100, 0.014571*100]\n",
    "fig = plt.figure(figsize =(10, 7))\n",
    "plt.pie(data, labels = cars)\n",
    " \n",
    "# show plot\n",
    "plt.show()"
   ]
  },
  {
   "cell_type": "code",
   "execution_count": 44,
   "metadata": {},
   "outputs": [
    {
     "data": {
      "text/plain": [
       "(10227, 8, 1)"
      ]
     },
     "execution_count": 44,
     "metadata": {},
     "output_type": "execute_result"
    }
   ],
   "source": [
    "X_train_shaped = np.expand_dims(X_train, axis=2)\n",
    "X_train_shaped.shape"
   ]
  },
  {
   "cell_type": "code",
   "execution_count": 45,
   "metadata": {},
   "outputs": [
    {
     "data": {
      "text/plain": [
       "(3008, 8, 1)"
      ]
     },
     "execution_count": 45,
     "metadata": {},
     "output_type": "execute_result"
    }
   ],
   "source": [
    "X_test_shaped = np.expand_dims(X_test, axis=2)\n",
    "X_test_shaped.shape"
   ]
  },
  {
   "cell_type": "code",
   "execution_count": 46,
   "metadata": {},
   "outputs": [],
   "source": [
    "# !pip install keras\n",
    "# !pip install tensorflow"
   ]
  },
  {
   "cell_type": "code",
   "execution_count": 47,
   "metadata": {},
   "outputs": [
    {
     "name": "stdout",
     "output_type": "stream",
     "text": [
      "Epoch 1/100\n"
     ]
    },
    {
     "name": "stderr",
     "output_type": "stream",
     "text": [
      "C:\\ProgramData\\Anaconda3\\lib\\site-packages\\keras\\optimizer_v2\\adam.py:105: UserWarning: The `lr` argument is deprecated, use `learning_rate` instead.\n",
      "  super(Adam, self).__init__(name, **kwargs)\n"
     ]
    },
    {
     "name": "stdout",
     "output_type": "stream",
     "text": [
      "320/320 [==============================] - 1s 1ms/step - loss: 0.6699 - accuracy: 0.5241 - val_loss: 0.5976 - val_accuracy: 0.5834\n",
      "Epoch 2/100\n",
      "320/320 [==============================] - 0s 943us/step - loss: 0.6368 - accuracy: 0.6203 - val_loss: 0.5955 - val_accuracy: 0.6729\n",
      "Epoch 3/100\n",
      "320/320 [==============================] - 0s 919us/step - loss: 0.6123 - accuracy: 0.6860 - val_loss: 0.5891 - val_accuracy: 0.7793\n",
      "Epoch 4/100\n",
      "320/320 [==============================] - 0s 954us/step - loss: 0.5965 - accuracy: 0.7138 - val_loss: 0.5772 - val_accuracy: 0.8191\n",
      "Epoch 5/100\n",
      "320/320 [==============================] - 0s 987us/step - loss: 0.5803 - accuracy: 0.7435 - val_loss: 0.5635 - val_accuracy: 0.8421\n",
      "Epoch 6/100\n",
      "320/320 [==============================] - 0s 942us/step - loss: 0.5687 - accuracy: 0.7490 - val_loss: 0.5520 - val_accuracy: 0.8614\n",
      "Epoch 7/100\n",
      "320/320 [==============================] - 0s 969us/step - loss: 0.5601 - accuracy: 0.7572 - val_loss: 0.5393 - val_accuracy: 0.8697\n",
      "Epoch 8/100\n",
      "320/320 [==============================] - 0s 973us/step - loss: 0.5494 - accuracy: 0.7638 - val_loss: 0.5241 - val_accuracy: 0.8684\n",
      "Epoch 9/100\n",
      "320/320 [==============================] - 0s 937us/step - loss: 0.5418 - accuracy: 0.7653 - val_loss: 0.5122 - val_accuracy: 0.8793\n",
      "Epoch 10/100\n",
      "320/320 [==============================] - 0s 966us/step - loss: 0.5324 - accuracy: 0.7733 - val_loss: 0.5018 - val_accuracy: 0.8803\n",
      "Epoch 11/100\n",
      "320/320 [==============================] - 0s 1ms/step - loss: 0.5263 - accuracy: 0.7745 - val_loss: 0.4943 - val_accuracy: 0.8810\n",
      "Epoch 12/100\n",
      "320/320 [==============================] - 0s 980us/step - loss: 0.5224 - accuracy: 0.7759 - val_loss: 0.4864 - val_accuracy: 0.8816\n",
      "Epoch 13/100\n",
      "320/320 [==============================] - 0s 928us/step - loss: 0.5172 - accuracy: 0.7756 - val_loss: 0.4794 - val_accuracy: 0.8810\n",
      "Epoch 14/100\n",
      "320/320 [==============================] - 0s 937us/step - loss: 0.5121 - accuracy: 0.7796 - val_loss: 0.4726 - val_accuracy: 0.8810\n",
      "Epoch 15/100\n",
      "320/320 [==============================] - 0s 917us/step - loss: 0.5082 - accuracy: 0.7804 - val_loss: 0.4666 - val_accuracy: 0.8810\n",
      "Epoch 16/100\n",
      "320/320 [==============================] - 0s 918us/step - loss: 0.5025 - accuracy: 0.7825 - val_loss: 0.4603 - val_accuracy: 0.8803\n",
      "Epoch 17/100\n",
      "320/320 [==============================] - 0s 919us/step - loss: 0.4982 - accuracy: 0.7844 - val_loss: 0.4553 - val_accuracy: 0.8783\n",
      "Epoch 18/100\n",
      "320/320 [==============================] - 0s 914us/step - loss: 0.4963 - accuracy: 0.7840 - val_loss: 0.4490 - val_accuracy: 0.8770\n",
      "Epoch 19/100\n",
      "320/320 [==============================] - 0s 899us/step - loss: 0.4912 - accuracy: 0.7905 - val_loss: 0.4419 - val_accuracy: 0.8763\n",
      "Epoch 20/100\n",
      "320/320 [==============================] - 0s 894us/step - loss: 0.4843 - accuracy: 0.7933 - val_loss: 0.4377 - val_accuracy: 0.8763\n",
      "Epoch 21/100\n",
      "320/320 [==============================] - 0s 922us/step - loss: 0.4821 - accuracy: 0.7896 - val_loss: 0.4324 - val_accuracy: 0.8750\n",
      "Epoch 22/100\n",
      "320/320 [==============================] - 0s 902us/step - loss: 0.4799 - accuracy: 0.7905 - val_loss: 0.4260 - val_accuracy: 0.8750\n",
      "Epoch 23/100\n",
      "320/320 [==============================] - 0s 923us/step - loss: 0.4770 - accuracy: 0.7919 - val_loss: 0.4211 - val_accuracy: 0.8737\n",
      "Epoch 24/100\n",
      "320/320 [==============================] - 0s 902us/step - loss: 0.4723 - accuracy: 0.7952 - val_loss: 0.4180 - val_accuracy: 0.8710\n",
      "Epoch 25/100\n",
      "320/320 [==============================] - 0s 914us/step - loss: 0.4755 - accuracy: 0.7972 - val_loss: 0.4151 - val_accuracy: 0.8707\n",
      "Epoch 26/100\n",
      "320/320 [==============================] - 0s 903us/step - loss: 0.4700 - accuracy: 0.7942 - val_loss: 0.4108 - val_accuracy: 0.8707\n",
      "Epoch 27/100\n",
      "320/320 [==============================] - 0s 895us/step - loss: 0.4680 - accuracy: 0.7980 - val_loss: 0.4064 - val_accuracy: 0.8707\n",
      "Epoch 28/100\n",
      "320/320 [==============================] - 0s 925us/step - loss: 0.4645 - accuracy: 0.7972 - val_loss: 0.4042 - val_accuracy: 0.8703\n",
      "Epoch 29/100\n",
      "320/320 [==============================] - 0s 921us/step - loss: 0.4631 - accuracy: 0.7972 - val_loss: 0.3990 - val_accuracy: 0.8707\n",
      "Epoch 30/100\n",
      "320/320 [==============================] - 0s 923us/step - loss: 0.4639 - accuracy: 0.7964 - val_loss: 0.3958 - val_accuracy: 0.8707\n",
      "Epoch 31/100\n",
      "320/320 [==============================] - 0s 950us/step - loss: 0.4608 - accuracy: 0.7965 - val_loss: 0.3920 - val_accuracy: 0.8707\n",
      "Epoch 32/100\n",
      "320/320 [==============================] - 0s 923us/step - loss: 0.4571 - accuracy: 0.8003 - val_loss: 0.3897 - val_accuracy: 0.8713\n",
      "Epoch 33/100\n",
      "320/320 [==============================] - 0s 884us/step - loss: 0.4577 - accuracy: 0.7978 - val_loss: 0.3875 - val_accuracy: 0.8710\n",
      "Epoch 34/100\n",
      "320/320 [==============================] - 0s 1ms/step - loss: 0.4537 - accuracy: 0.8008 - val_loss: 0.3884 - val_accuracy: 0.8687\n",
      "Epoch 35/100\n",
      "320/320 [==============================] - 0s 900us/step - loss: 0.4537 - accuracy: 0.7971 - val_loss: 0.3861 - val_accuracy: 0.8684\n",
      "Epoch 36/100\n",
      "320/320 [==============================] - 0s 911us/step - loss: 0.4524 - accuracy: 0.8002 - val_loss: 0.3822 - val_accuracy: 0.8697\n",
      "Epoch 37/100\n",
      "320/320 [==============================] - 0s 874us/step - loss: 0.4499 - accuracy: 0.8015 - val_loss: 0.3788 - val_accuracy: 0.8697\n",
      "Epoch 38/100\n",
      "320/320 [==============================] - 0s 876us/step - loss: 0.4518 - accuracy: 0.8001 - val_loss: 0.3774 - val_accuracy: 0.8700\n",
      "Epoch 39/100\n",
      "320/320 [==============================] - 0s 875us/step - loss: 0.4458 - accuracy: 0.8033 - val_loss: 0.3763 - val_accuracy: 0.8687\n",
      "Epoch 40/100\n",
      "320/320 [==============================] - 0s 908us/step - loss: 0.4470 - accuracy: 0.8040 - val_loss: 0.3741 - val_accuracy: 0.8690\n",
      "Epoch 41/100\n",
      "320/320 [==============================] - 0s 900us/step - loss: 0.4448 - accuracy: 0.8054 - val_loss: 0.3718 - val_accuracy: 0.8693\n",
      "Epoch 42/100\n",
      "320/320 [==============================] - 0s 893us/step - loss: 0.4445 - accuracy: 0.8064 - val_loss: 0.3727 - val_accuracy: 0.8687\n",
      "Epoch 43/100\n",
      "320/320 [==============================] - 0s 918us/step - loss: 0.4427 - accuracy: 0.8053 - val_loss: 0.3685 - val_accuracy: 0.8693\n",
      "Epoch 44/100\n",
      "320/320 [==============================] - 0s 949us/step - loss: 0.4414 - accuracy: 0.8071 - val_loss: 0.3693 - val_accuracy: 0.8687\n",
      "Epoch 45/100\n",
      "320/320 [==============================] - 0s 903us/step - loss: 0.4402 - accuracy: 0.8063 - val_loss: 0.3676 - val_accuracy: 0.8687\n",
      "Epoch 46/100\n",
      "320/320 [==============================] - 0s 903us/step - loss: 0.4423 - accuracy: 0.8048 - val_loss: 0.3658 - val_accuracy: 0.8690\n",
      "Epoch 47/100\n",
      "320/320 [==============================] - 0s 904us/step - loss: 0.4403 - accuracy: 0.8057 - val_loss: 0.3651 - val_accuracy: 0.8690\n",
      "Epoch 48/100\n",
      "320/320 [==============================] - 0s 912us/step - loss: 0.4386 - accuracy: 0.8113 - val_loss: 0.3646 - val_accuracy: 0.8687\n",
      "Epoch 49/100\n",
      "320/320 [==============================] - 0s 884us/step - loss: 0.4392 - accuracy: 0.8091 - val_loss: 0.3646 - val_accuracy: 0.8684\n",
      "Epoch 50/100\n",
      "320/320 [==============================] - 0s 937us/step - loss: 0.4374 - accuracy: 0.8104 - val_loss: 0.3621 - val_accuracy: 0.8690\n",
      "Epoch 51/100\n",
      "320/320 [==============================] - 0s 905us/step - loss: 0.4391 - accuracy: 0.8085 - val_loss: 0.3621 - val_accuracy: 0.8684\n",
      "Epoch 52/100\n",
      "320/320 [==============================] - 0s 907us/step - loss: 0.4384 - accuracy: 0.8113 - val_loss: 0.3604 - val_accuracy: 0.8690\n",
      "Epoch 53/100\n",
      "320/320 [==============================] - 0s 870us/step - loss: 0.4372 - accuracy: 0.8078 - val_loss: 0.3603 - val_accuracy: 0.8687\n",
      "Epoch 54/100\n",
      "320/320 [==============================] - 0s 874us/step - loss: 0.4375 - accuracy: 0.8120 - val_loss: 0.3604 - val_accuracy: 0.8684\n",
      "Epoch 55/100\n",
      "320/320 [==============================] - 0s 919us/step - loss: 0.4358 - accuracy: 0.8118 - val_loss: 0.3606 - val_accuracy: 0.8684\n",
      "Epoch 56/100\n",
      "320/320 [==============================] - 0s 906us/step - loss: 0.4344 - accuracy: 0.8098 - val_loss: 0.3586 - val_accuracy: 0.8684\n",
      "Epoch 57/100\n",
      "320/320 [==============================] - 0s 879us/step - loss: 0.4325 - accuracy: 0.8137 - val_loss: 0.3590 - val_accuracy: 0.8684\n",
      "Epoch 58/100\n",
      "320/320 [==============================] - 0s 895us/step - loss: 0.4337 - accuracy: 0.8123 - val_loss: 0.3585 - val_accuracy: 0.8684\n",
      "Epoch 59/100\n",
      "320/320 [==============================] - 0s 869us/step - loss: 0.4346 - accuracy: 0.8102 - val_loss: 0.3575 - val_accuracy: 0.8684\n",
      "Epoch 60/100\n",
      "320/320 [==============================] - 0s 883us/step - loss: 0.4305 - accuracy: 0.8169 - val_loss: 0.3567 - val_accuracy: 0.8684\n",
      "Epoch 61/100\n",
      "320/320 [==============================] - 0s 910us/step - loss: 0.4320 - accuracy: 0.8115 - val_loss: 0.3581 - val_accuracy: 0.8684\n",
      "Epoch 62/100\n",
      "320/320 [==============================] - 0s 869us/step - loss: 0.4313 - accuracy: 0.8111 - val_loss: 0.3544 - val_accuracy: 0.8690\n",
      "Epoch 63/100\n",
      "320/320 [==============================] - 0s 894us/step - loss: 0.4311 - accuracy: 0.8108 - val_loss: 0.3562 - val_accuracy: 0.8684\n",
      "Epoch 64/100\n",
      "320/320 [==============================] - 0s 959us/step - loss: 0.4322 - accuracy: 0.8145 - val_loss: 0.3555 - val_accuracy: 0.8684\n",
      "Epoch 65/100\n",
      "320/320 [==============================] - 0s 920us/step - loss: 0.4296 - accuracy: 0.8155 - val_loss: 0.3534 - val_accuracy: 0.8690\n",
      "Epoch 66/100\n",
      "320/320 [==============================] - 0s 934us/step - loss: 0.4283 - accuracy: 0.8144 - val_loss: 0.3554 - val_accuracy: 0.8684\n",
      "Epoch 67/100\n",
      "320/320 [==============================] - 0s 871us/step - loss: 0.4304 - accuracy: 0.8133 - val_loss: 0.3557 - val_accuracy: 0.8684\n",
      "Epoch 68/100\n",
      "320/320 [==============================] - 0s 901us/step - loss: 0.4296 - accuracy: 0.8146 - val_loss: 0.3563 - val_accuracy: 0.8684\n",
      "Epoch 69/100\n",
      "320/320 [==============================] - 0s 888us/step - loss: 0.4304 - accuracy: 0.8160 - val_loss: 0.3571 - val_accuracy: 0.8680\n",
      "Epoch 70/100\n",
      "320/320 [==============================] - 0s 879us/step - loss: 0.4271 - accuracy: 0.8149 - val_loss: 0.3542 - val_accuracy: 0.8684\n",
      "Epoch 71/100\n",
      "320/320 [==============================] - 0s 888us/step - loss: 0.4298 - accuracy: 0.8164 - val_loss: 0.3540 - val_accuracy: 0.8684\n",
      "Epoch 72/100\n",
      "320/320 [==============================] - 0s 892us/step - loss: 0.4266 - accuracy: 0.8176 - val_loss: 0.3556 - val_accuracy: 0.8680\n",
      "Epoch 73/100\n",
      "320/320 [==============================] - 0s 936us/step - loss: 0.4245 - accuracy: 0.8193 - val_loss: 0.3542 - val_accuracy: 0.8684\n",
      "Epoch 74/100\n",
      "320/320 [==============================] - 0s 884us/step - loss: 0.4275 - accuracy: 0.8165 - val_loss: 0.3542 - val_accuracy: 0.8684\n",
      "Epoch 75/100\n",
      "320/320 [==============================] - 0s 890us/step - loss: 0.4285 - accuracy: 0.8172 - val_loss: 0.3533 - val_accuracy: 0.8684\n",
      "Epoch 76/100\n",
      "320/320 [==============================] - 0s 942us/step - loss: 0.4256 - accuracy: 0.8172 - val_loss: 0.3536 - val_accuracy: 0.8684\n",
      "Epoch 77/100\n",
      "320/320 [==============================] - 0s 925us/step - loss: 0.4224 - accuracy: 0.8176 - val_loss: 0.3552 - val_accuracy: 0.8680\n",
      "Epoch 78/100\n",
      "320/320 [==============================] - 0s 937us/step - loss: 0.4275 - accuracy: 0.8172 - val_loss: 0.3525 - val_accuracy: 0.8684\n",
      "Epoch 79/100\n",
      "320/320 [==============================] - 0s 934us/step - loss: 0.4244 - accuracy: 0.8177 - val_loss: 0.3528 - val_accuracy: 0.8684\n",
      "Epoch 80/100\n",
      "320/320 [==============================] - 0s 924us/step - loss: 0.4217 - accuracy: 0.8198 - val_loss: 0.3535 - val_accuracy: 0.8680\n",
      "Epoch 81/100\n",
      "320/320 [==============================] - 0s 880us/step - loss: 0.4233 - accuracy: 0.8181 - val_loss: 0.3539 - val_accuracy: 0.8680\n",
      "Epoch 82/100\n",
      "320/320 [==============================] - 0s 943us/step - loss: 0.4235 - accuracy: 0.8193 - val_loss: 0.3533 - val_accuracy: 0.8680\n",
      "Epoch 83/100\n",
      "320/320 [==============================] - 0s 938us/step - loss: 0.4228 - accuracy: 0.8181 - val_loss: 0.3533 - val_accuracy: 0.8680\n",
      "Epoch 84/100\n",
      "320/320 [==============================] - 0s 1ms/step - loss: 0.4236 - accuracy: 0.8160 - val_loss: 0.3529 - val_accuracy: 0.8680\n",
      "Epoch 85/100\n",
      "320/320 [==============================] - 0s 1ms/step - loss: 0.4235 - accuracy: 0.8181 - val_loss: 0.3526 - val_accuracy: 0.8680\n",
      "Epoch 86/100\n",
      "320/320 [==============================] - 0s 1ms/step - loss: 0.4235 - accuracy: 0.8155 - val_loss: 0.3520 - val_accuracy: 0.8684\n",
      "Epoch 87/100\n",
      "320/320 [==============================] - 0s 1ms/step - loss: 0.4234 - accuracy: 0.8170 - val_loss: 0.3539 - val_accuracy: 0.8680\n",
      "Epoch 88/100\n",
      "320/320 [==============================] - 0s 988us/step - loss: 0.4234 - accuracy: 0.8199 - val_loss: 0.3543 - val_accuracy: 0.8680\n",
      "Epoch 89/100\n",
      "320/320 [==============================] - 0s 1ms/step - loss: 0.4204 - accuracy: 0.8198 - val_loss: 0.3528 - val_accuracy: 0.8680\n",
      "Epoch 90/100\n",
      "320/320 [==============================] - 0s 1ms/step - loss: 0.4213 - accuracy: 0.8202 - val_loss: 0.3533 - val_accuracy: 0.8680\n",
      "Epoch 91/100\n",
      "320/320 [==============================] - 0s 1ms/step - loss: 0.4223 - accuracy: 0.8237 - val_loss: 0.3542 - val_accuracy: 0.8680\n",
      "Epoch 92/100\n",
      "320/320 [==============================] - 0s 973us/step - loss: 0.4202 - accuracy: 0.8191 - val_loss: 0.3551 - val_accuracy: 0.8667\n",
      "Epoch 93/100\n",
      "320/320 [==============================] - 0s 985us/step - loss: 0.4212 - accuracy: 0.8204 - val_loss: 0.3541 - val_accuracy: 0.8674\n",
      "Epoch 94/100\n",
      "320/320 [==============================] - 0s 952us/step - loss: 0.4211 - accuracy: 0.8192 - val_loss: 0.3536 - val_accuracy: 0.8680\n",
      "Epoch 95/100\n",
      "320/320 [==============================] - 0s 943us/step - loss: 0.4204 - accuracy: 0.8215 - val_loss: 0.3536 - val_accuracy: 0.8680\n",
      "Epoch 96/100\n",
      "320/320 [==============================] - 0s 915us/step - loss: 0.4218 - accuracy: 0.8199 - val_loss: 0.3532 - val_accuracy: 0.8680\n",
      "Epoch 97/100\n",
      "320/320 [==============================] - 0s 881us/step - loss: 0.4218 - accuracy: 0.8185 - val_loss: 0.3556 - val_accuracy: 0.8660\n",
      "Epoch 98/100\n",
      "320/320 [==============================] - 0s 902us/step - loss: 0.4187 - accuracy: 0.8220 - val_loss: 0.3566 - val_accuracy: 0.8657\n",
      "Epoch 99/100\n",
      "320/320 [==============================] - 0s 897us/step - loss: 0.4220 - accuracy: 0.8205 - val_loss: 0.3554 - val_accuracy: 0.8660\n",
      "Epoch 100/100\n",
      "320/320 [==============================] - 0s 880us/step - loss: 0.4200 - accuracy: 0.8224 - val_loss: 0.3530 - val_accuracy: 0.8680\n"
     ]
    },
    {
     "data": {
      "text/plain": [
       "<keras.callbacks.History at 0x1a478328fa0>"
      ]
     },
     "execution_count": 47,
     "metadata": {},
     "output_type": "execute_result"
    }
   ],
   "source": [
    "from keras.models import Sequential\n",
    "from keras.layers import Dense, Flatten\n",
    "from keras.layers.convolutional import Conv1D\n",
    "\n",
    "from tensorflow.keras.optimizers import Adam\n",
    "from tensorflow.keras.optimizers import RMSprop\n",
    "from keras.layers import Dropout\n",
    "## Create Model ##\n",
    "\n",
    "model = Sequential()\n",
    "\n",
    "model.add(Conv1D(64, kernel_size = 3, activation = 'relu', input_shape = (8,1)))\n",
    "model.add(Flatten())\n",
    "model.add(Dense(32, activation='relu'))\n",
    "model.add(Dense(16, activation = 'relu'))\n",
    "model.add(Dropout(0.2))\n",
    "model.add(Dense(1,activation = 'sigmoid'))\n",
    "\n",
    "\n",
    "## Compile Model ##\n",
    "optimizer = Adam(lr=0.00001)\n",
    "model.compile(loss='binary_crossentropy', optimizer=optimizer, metrics=['accuracy'])\n",
    "\n",
    "## Train Model and Check Validation Accuracy ##\n",
    "model.fit(X_train_shaped, y_train, validation_data = (X_test_shaped,y_test), epochs = 100)"
   ]
  },
  {
   "cell_type": "code",
   "execution_count": 48,
   "metadata": {},
   "outputs": [
    {
     "name": "stdout",
     "output_type": "stream",
     "text": [
      "Model: \"sequential\"\n",
      "_________________________________________________________________\n",
      " Layer (type)                Output Shape              Param #   \n",
      "=================================================================\n",
      " conv1d (Conv1D)             (None, 6, 64)             256       \n",
      "                                                                 \n",
      " flatten (Flatten)           (None, 384)               0         \n",
      "                                                                 \n",
      " dense (Dense)               (None, 32)                12320     \n",
      "                                                                 \n",
      " dense_1 (Dense)             (None, 16)                528       \n",
      "                                                                 \n",
      " dropout (Dropout)           (None, 16)                0         \n",
      "                                                                 \n",
      " dense_2 (Dense)             (None, 1)                 17        \n",
      "                                                                 \n",
      "=================================================================\n",
      "Total params: 13,121\n",
      "Trainable params: 13,121\n",
      "Non-trainable params: 0\n",
      "_________________________________________________________________\n"
     ]
    }
   ],
   "source": [
    "model.summary()"
   ]
  },
  {
   "cell_type": "code",
   "execution_count": 49,
   "metadata": {},
   "outputs": [
    {
     "name": "stdout",
     "output_type": "stream",
     "text": [
      "[0.42154255319148937, 0.42154255319148937, 0.4992138364779874]\n",
      "[[1268    4]\n",
      " [1736    0]]\n"
     ]
    }
   ],
   "source": [
    "pred_cnn = np.argmax(X_test_shaped,axis=1)\n",
    "pred_cnn = average(pred_cnn)\n",
    "y_score_7 = np.argmax(X_test_shaped,axis=1)\n",
    "acc7 = accuracy_score(y_test, np.array(pred_cnn))\n",
    "f1_score_7 = metrics.f1_score(y_test, pred_cnn, average='micro')\n",
    "roc_7 = metrics.roc_auc_score(y_test, y_score_7, average='micro', multi_class=\"ovo\")\n",
    "print([acc7,f1_score_7,roc_7])\n",
    "print(confusion_matrix(y_test, pred_cnn))"
   ]
  },
  {
   "cell_type": "code",
   "execution_count": 50,
   "metadata": {},
   "outputs": [
    {
     "data": {
      "text/html": [
       "<div>\n",
       "<style scoped>\n",
       "    .dataframe tbody tr th:only-of-type {\n",
       "        vertical-align: middle;\n",
       "    }\n",
       "\n",
       "    .dataframe tbody tr th {\n",
       "        vertical-align: top;\n",
       "    }\n",
       "\n",
       "    .dataframe thead th {\n",
       "        text-align: right;\n",
       "    }\n",
       "</style>\n",
       "<table border=\"1\" class=\"dataframe\">\n",
       "  <thead>\n",
       "    <tr style=\"text-align: right;\">\n",
       "      <th></th>\n",
       "      <th>Accuracy</th>\n",
       "    </tr>\n",
       "    <tr>\n",
       "      <th>Model</th>\n",
       "      <th></th>\n",
       "    </tr>\n",
       "  </thead>\n",
       "  <tbody>\n",
       "    <tr>\n",
       "      <th>Logistic Regression</th>\n",
       "      <td>0.863364</td>\n",
       "    </tr>\n",
       "    <tr>\n",
       "      <th>Naive Bayes</th>\n",
       "      <td>0.831782</td>\n",
       "    </tr>\n",
       "    <tr>\n",
       "      <th>KNN</th>\n",
       "      <td>0.876662</td>\n",
       "    </tr>\n",
       "    <tr>\n",
       "      <th>MLP</th>\n",
       "      <td>0.814162</td>\n",
       "    </tr>\n",
       "    <tr>\n",
       "      <th>Decision Tree</th>\n",
       "      <td>0.867686</td>\n",
       "    </tr>\n",
       "    <tr>\n",
       "      <th>Random Forest</th>\n",
       "      <td>0.881649</td>\n",
       "    </tr>\n",
       "    <tr>\n",
       "      <th>CNN</th>\n",
       "      <td>0.421543</td>\n",
       "    </tr>\n",
       "    <tr>\n",
       "      <th>XGB Boosting</th>\n",
       "      <td>0.793218</td>\n",
       "    </tr>\n",
       "  </tbody>\n",
       "</table>\n",
       "</div>"
      ],
      "text/plain": [
       "                     Accuracy\n",
       "Model                        \n",
       "Logistic Regression  0.863364\n",
       "Naive Bayes          0.831782\n",
       "KNN                  0.876662\n",
       "MLP                  0.814162\n",
       "Decision Tree        0.867686\n",
       "Random Forest        0.881649\n",
       "CNN                  0.421543\n",
       "XGB Boosting         0.793218"
      ]
     },
     "execution_count": 50,
     "metadata": {},
     "output_type": "execute_result"
    },
    {
     "data": {
      "image/png": "[encoded data removed]",
      "text/plain": [
       "<Figure size 432x288 with 1 Axes>"
      ]
     },
     "metadata": {
      "needs_background": "light"
     },
     "output_type": "display_data"
    }
   ],
   "source": [
    "acc_total = {'Model':['Logistic Regression','Naive Bayes', 'KNN', 'MLP','Decision Tree','Random Forest', 'CNN', 'XGB Boosting'],\n",
    "        'Accuracy':[acc1,acc2, acc3, acc4, acc5,acc6,acc7, acc8]}\n",
    "acc_total=pd.DataFrame(acc_total)\n",
    "acc_total=acc_total.set_index('Model')\n",
    "acc_total\n",
    "plt.plot(acc_total['Accuracy'])\n",
    "plt.xticks(rotation=45)\n",
    "acc_total"
   ]
  },
  {
   "cell_type": "code",
   "execution_count": 51,
   "metadata": {},
   "outputs": [
    {
     "data": {
      "text/plain": [
       "<matplotlib.legend.Legend at 0x1a47b6ff7c0>"
      ]
     },
     "execution_count": 51,
     "metadata": {},
     "output_type": "execute_result"
    },
    {
     "data": {
      "image/png": "[encoded data removed]",
      "text/plain": [
       "<Figure size 720x576 with 1 Axes>"
      ]
     },
     "metadata": {
      "needs_background": "light"
     },
     "output_type": "display_data"
    }
   ],
   "source": [
    "plt.figure(figsize=(10,8))\n",
    "plt.plot([0, 1], [0, 1],'r--')\n",
    "fpr_1, tpr_1, thresholds = roc_curve(y_test, y_score_1)\n",
    "fpr_2, tpr_2, thresholds = roc_curve(y_test, y_score_2)\n",
    "fpr_3, tpr_3, thresholds = roc_curve(y_test, y_score_3)\n",
    "fpr_4, tpr_4, thresholds = roc_curve(y_test, y_score_4)\n",
    "fpr_5, tpr_5, thresholds = roc_curve(y_test, y_score_5)\n",
    "fpr_6, tpr_6, thresholds = roc_curve(y_test, y_score_6)\n",
    "fpr_7, tpr_7, thresholds = roc_curve(y_test, y_score_7)\n",
    "plt.plot(fpr_1, tpr_1, label= \"Logistic Regression\")\n",
    "plt.plot(fpr_2, tpr_2, label= \"Naive Bayes\")\n",
    "plt.plot(fpr_3, tpr_3, label= \"KNN\")\n",
    "plt.plot(fpr_4, tpr_4, label= \"MLP\")\n",
    "plt.plot(fpr_5, tpr_5, label= \"Decision Tree\")\n",
    "plt.plot(fpr_6, tpr_6, label= \"Random Forest\")\n",
    "plt.plot(fpr_7, tpr_7, label= \"CNN\")\n",
    "plt.title('ROC Curve for LSTM')\n",
    "plt.xlabel('False Positive Rate')\n",
    "plt.ylabel('True Positive Rate')\n",
    "plt.legend()"
   ]
  },
  {
   "cell_type": "code",
   "execution_count": 52,
   "metadata": {},
   "outputs": [
    {
     "ename": "ValueError",
     "evalue": "y_prob has values outside [0, 1] and normalize is set to False.",
     "output_type": "error",
     "traceback": [
      "\u001b[1;31m---------------------------------------------------------------------------\u001b[0m",
      "\u001b[1;31mValueError\u001b[0m                                Traceback (most recent call last)",
      "\u001b[1;32m~\\AppData\\Local\\Temp/ipykernel_52012/827443997.py\u001b[0m in \u001b[0;36m<module>\u001b[1;34m\u001b[0m\n\u001b[0;32m     20\u001b[0m plt.plot(mean_predicted_value, fraction_of_positives,\"s-\",\n\u001b[0;32m     21\u001b[0m                  label=\"%s\" % 'Random Forest')\n\u001b[1;32m---> 22\u001b[1;33m \u001b[0mfraction_of_positives\u001b[0m\u001b[1;33m,\u001b[0m \u001b[0mmean_predicted_value\u001b[0m\u001b[1;33m=\u001b[0m\u001b[0mcalibration_curve\u001b[0m\u001b[1;33m(\u001b[0m\u001b[0my_test\u001b[0m\u001b[1;33m,\u001b[0m\u001b[0my_score_7\u001b[0m\u001b[1;33m,\u001b[0m\u001b[0mn_bins\u001b[0m\u001b[1;33m=\u001b[0m\u001b[1;36m10\u001b[0m\u001b[1;33m)\u001b[0m\u001b[1;33m\u001b[0m\u001b[1;33m\u001b[0m\u001b[0m\n\u001b[0m\u001b[0;32m     23\u001b[0m plt.plot(mean_predicted_value, fraction_of_positives,\"s-\",\n\u001b[0;32m     24\u001b[0m                  label=\"%s\" % 'CNN')\n",
      "\u001b[1;32mC:\\ProgramData\\Anaconda3\\lib\\site-packages\\sklearn\\utils\\validation.py\u001b[0m in \u001b[0;36minner_f\u001b[1;34m(*args, **kwargs)\u001b[0m\n\u001b[0;32m     61\u001b[0m             \u001b[0mextra_args\u001b[0m \u001b[1;33m=\u001b[0m \u001b[0mlen\u001b[0m\u001b[1;33m(\u001b[0m\u001b[0margs\u001b[0m\u001b[1;33m)\u001b[0m \u001b[1;33m-\u001b[0m \u001b[0mlen\u001b[0m\u001b[1;33m(\u001b[0m\u001b[0mall_args\u001b[0m\u001b[1;33m)\u001b[0m\u001b[1;33m\u001b[0m\u001b[1;33m\u001b[0m\u001b[0m\n\u001b[0;32m     62\u001b[0m             \u001b[1;32mif\u001b[0m \u001b[0mextra_args\u001b[0m \u001b[1;33m<=\u001b[0m \u001b[1;36m0\u001b[0m\u001b[1;33m:\u001b[0m\u001b[1;33m\u001b[0m\u001b[1;33m\u001b[0m\u001b[0m\n\u001b[1;32m---> 63\u001b[1;33m                 \u001b[1;32mreturn\u001b[0m \u001b[0mf\u001b[0m\u001b[1;33m(\u001b[0m\u001b[1;33m*\u001b[0m\u001b[0margs\u001b[0m\u001b[1;33m,\u001b[0m \u001b[1;33m**\u001b[0m\u001b[0mkwargs\u001b[0m\u001b[1;33m)\u001b[0m\u001b[1;33m\u001b[0m\u001b[1;33m\u001b[0m\u001b[0m\n\u001b[0m\u001b[0;32m     64\u001b[0m \u001b[1;33m\u001b[0m\u001b[0m\n\u001b[0;32m     65\u001b[0m             \u001b[1;31m# extra_args > 0\u001b[0m\u001b[1;33m\u001b[0m\u001b[1;33m\u001b[0m\u001b[0m\n",
      "\u001b[1;32mC:\\ProgramData\\Anaconda3\\lib\\site-packages\\sklearn\\calibration.py\u001b[0m in \u001b[0;36mcalibration_curve\u001b[1;34m(y_true, y_prob, normalize, n_bins, strategy)\u001b[0m\n\u001b[0;32m    859\u001b[0m         \u001b[0my_prob\u001b[0m \u001b[1;33m=\u001b[0m \u001b[1;33m(\u001b[0m\u001b[0my_prob\u001b[0m \u001b[1;33m-\u001b[0m \u001b[0my_prob\u001b[0m\u001b[1;33m.\u001b[0m\u001b[0mmin\u001b[0m\u001b[1;33m(\u001b[0m\u001b[1;33m)\u001b[0m\u001b[1;33m)\u001b[0m \u001b[1;33m/\u001b[0m \u001b[1;33m(\u001b[0m\u001b[0my_prob\u001b[0m\u001b[1;33m.\u001b[0m\u001b[0mmax\u001b[0m\u001b[1;33m(\u001b[0m\u001b[1;33m)\u001b[0m \u001b[1;33m-\u001b[0m \u001b[0my_prob\u001b[0m\u001b[1;33m.\u001b[0m\u001b[0mmin\u001b[0m\u001b[1;33m(\u001b[0m\u001b[1;33m)\u001b[0m\u001b[1;33m)\u001b[0m\u001b[1;33m\u001b[0m\u001b[1;33m\u001b[0m\u001b[0m\n\u001b[0;32m    860\u001b[0m     \u001b[1;32melif\u001b[0m \u001b[0my_prob\u001b[0m\u001b[1;33m.\u001b[0m\u001b[0mmin\u001b[0m\u001b[1;33m(\u001b[0m\u001b[1;33m)\u001b[0m \u001b[1;33m<\u001b[0m \u001b[1;36m0\u001b[0m \u001b[1;32mor\u001b[0m \u001b[0my_prob\u001b[0m\u001b[1;33m.\u001b[0m\u001b[0mmax\u001b[0m\u001b[1;33m(\u001b[0m\u001b[1;33m)\u001b[0m \u001b[1;33m>\u001b[0m \u001b[1;36m1\u001b[0m\u001b[1;33m:\u001b[0m\u001b[1;33m\u001b[0m\u001b[1;33m\u001b[0m\u001b[0m\n\u001b[1;32m--> 861\u001b[1;33m         raise ValueError(\"y_prob has values outside [0, 1] and normalize is \"\n\u001b[0m\u001b[0;32m    862\u001b[0m                          \"set to False.\")\n\u001b[0;32m    863\u001b[0m \u001b[1;33m\u001b[0m\u001b[0m\n",
      "\u001b[1;31mValueError\u001b[0m: y_prob has values outside [0, 1] and normalize is set to False."
     ]
    },
    {
     "data": {
      "image/png": "[encoded data removed]",
      "text/plain": [
       "<Figure size 720x720 with 1 Axes>"
      ]
     },
     "metadata": {
      "needs_background": "light"
     },
     "output_type": "display_data"
    }
   ],
   "source": [
    "from sklearn.calibration import calibration_curve\n",
    "plt.figure(figsize=(10,10))\n",
    "plt.plot([0, 1], [0, 1], \"k:\", label=\"Perfectly calibrated\")\n",
    "fraction_of_positives, mean_predicted_value=calibration_curve(y_test,y_score_1,n_bins=10)\n",
    "plt.plot(mean_predicted_value, fraction_of_positives,\"s-\",\n",
    "                 label=\"%s\" % 'Logistic Regression')\n",
    "fraction_of_positives, mean_predicted_value=calibration_curve(y_test,y_score_2,n_bins=10)\n",
    "plt.plot(mean_predicted_value, fraction_of_positives,\"s-\",\n",
    "                 label=\"%s\" % 'Naive Bayes')\n",
    "fraction_of_positives, mean_predicted_value=calibration_curve(y_test,y_score_3,n_bins=10)\n",
    "plt.plot(mean_predicted_value, fraction_of_positives,\"s-\",\n",
    "                 label=\"%s\" % 'KNN')\n",
    "fraction_of_positives, mean_predicted_value=calibration_curve(y_test,y_score_4,n_bins=10)\n",
    "plt.plot(mean_predicted_value, fraction_of_positives,\"s-\",\n",
    "                 label=\"%s\" % 'MLP')\n",
    "fraction_of_positives, mean_predicted_value=calibration_curve(y_test,y_score_5,n_bins=10)\n",
    "plt.plot(mean_predicted_value, fraction_of_positives,\"s-\",\n",
    "                 label=\"%s\" % 'Decision Tree')\n",
    "fraction_of_positives, mean_predicted_value=calibration_curve(y_test,y_score_6,n_bins=10)\n",
    "plt.plot(mean_predicted_value, fraction_of_positives,\"s-\",\n",
    "                 label=\"%s\" % 'Random Forest')\n",
    "fraction_of_positives, mean_predicted_value=calibration_curve(y_test,y_score_7,n_bins=10)\n",
    "plt.plot(mean_predicted_value, fraction_of_positives,\"s-\",\n",
    "                 label=\"%s\" % 'CNN')\n",
    "plt.legend(loc=\"lower right\")"
   ]
  },
  {
   "cell_type": "code",
   "execution_count": null,
   "metadata": {},
   "outputs": [],
   "source": [
    "#!pip install torchvision\n",
    "#!pip install opencv-python"
   ]
  },
  {
   "cell_type": "code",
   "execution_count": 53,
   "metadata": {},
   "outputs": [],
   "source": [
    "import torch\n",
    "import torchvision\n",
    "import glob\n",
    "import cv2\n",
    "from torchvision import transforms"
   ]
  },
  {
   "cell_type": "code",
   "execution_count": 54,
   "metadata": {},
   "outputs": [
    {
     "data": {
      "text/plain": [
       "device(type='cpu')"
      ]
     },
     "execution_count": 54,
     "metadata": {},
     "output_type": "execute_result"
    }
   ],
   "source": [
    "# seed for testing\n",
    "torch.manual_seed(0) \n",
    "# agnostic cuda\n",
    "device = torch.device('cuda:0' if torch.cuda.is_available() else 'cpu')\n",
    "device"
   ]
  },
  {
   "cell_type": "code",
   "execution_count": 55,
   "metadata": {},
   "outputs": [],
   "source": [
    "def copy_imgs(participants, train_set = True):\n",
    "    \"\"\"Helper function for copying and centralizing images\"\"\"\n",
    "    x = [int(x) for x in participants]\n",
    "    train_set = False\n",
    "    fileList_a, fileList_d = [], []\n",
    "    for i in x:\n",
    "        alert_states = len(glob.glob(\"img\\\\\"+str(i)+\"\\\\p\"+str(i)+\"_s0*\"))\n",
    "        drowsy_states = len(glob.glob(\"img\\\\\"+str(i)+\"\\\\p\"+str(i)+\"_s10*\"))\n",
    "        MIN_T = 0 if train_set else int((alert_states*0.8))+1\n",
    "        MAX_T = int((alert_states*0.8)) if train_set else alert_states\n",
    "        for j in np.arange(MIN_T, MAX_T):\n",
    "            fileList_a.append(str(i)+\"\\\\p\"+str(i)+\"_s0_\"+str(j)+\"sec.jpg\")\n",
    "        MIN_T = 0 if train_set else int((drowsy_states*0.8))+1\n",
    "        MAX_T = int((drowsy_states*0.8)) if train_set else drowsy_states\n",
    "        for j in np.arange(MIN_T, MAX_T):\n",
    "            fileList_d.append(str(i)+\"\\\\p\"+str(i)+\"_s10_\"+str(j)+\"sec.jpg\")\n",
    "    \n",
    "    for item in fileList_a:\n",
    "        if not (os.path.isfile(r'img\\\\'+str(item))):\n",
    "            print(\"Not found\", item)\n",
    "            continue\n",
    "        if train_set:\n",
    "            shutil.copy(r'img\\\\'+str(item), r'cnn_train\\0\\\\')\n",
    "        else:\n",
    "            shutil.copy(r'img\\\\'+str(item), r'cnn_test\\0\\\\')\n",
    "    \n",
    "    for item in fileList_d:\n",
    "        if not (os.path.isfile(r'img\\\\'+str(item))):\n",
    "            print(\"Not found\", item)\n",
    "            continue\n",
    "        if train_set:\n",
    "            shutil.copy(r'img\\\\'+str(item), r'cnn_train\\1\\\\')\n",
    "        else:\n",
    "            shutil.copy(r'img\\\\'+str(item), r'cnn_test\\1\\\\')"
   ]
  },
  {
   "cell_type": "code",
   "execution_count": 56,
   "metadata": {},
   "outputs": [
    {
     "name": "stdout",
     "output_type": "stream",
     "text": [
      "Wall time: 42 ms\n"
     ]
    }
   ],
   "source": [
    "%%time\n",
    "# Create a folder for training and test images and copy the extracted images into it\n",
    "# Used schema: <source>img\\\\{item} <destination>cnn_train\\\\{item}\n",
    "participants = set(pd.read_csv('totalwithmaininfo.csv',sep=',').Participant)\n",
    "copy_imgs(participants, train_set=True) #if set to false, then the test set is copied\n",
    "copy_imgs(participants, train_set=False)"
   ]
  },
  {
   "cell_type": "code",
   "execution_count": 57,
   "metadata": {},
   "outputs": [],
   "source": [
    "def calibration(detector, predictor, cap = cv2.VideoCapture(0)):\n",
    "    \"\"\"Helper function for determing mean and std\"\"\"\n",
    "    \n",
    "    font                   = cv2.FONT_HERSHEY_SIMPLEX\n",
    "    bottomLeftCornerOfText = (10,400)\n",
    "    fontScale              = 1\n",
    "    fontColor              = (255,255,255)\n",
    "    lineType               = 2\n",
    "    data = []\n",
    "    cap = cap\n",
    "\n",
    "    while True:\n",
    "        # Getting out image by webcam \n",
    "        _, image = cap.read()\n",
    "        # Converting the image to gray scale\n",
    "        gray = cv2.cvtColor(image, cv2.COLOR_BGR2GRAY)\n",
    "\n",
    "        # Get faces into webcam's image\n",
    "        rects = detector(image, 0)\n",
    "\n",
    "        # For each detected face, find the landmark.\n",
    "        for (i, rect) in enumerate(rects):\n",
    "            # Make the prediction and transfom it to numpy array\n",
    "            shape = predictor(gray, rect)\n",
    "            shape = face_utils.shape_to_np(shape)\n",
    "            data.append(shape)\n",
    "            cv2.putText(image,\"Calibrating...\", bottomLeftCornerOfText, font, fontScale, fontColor,lineType)\n",
    "\n",
    "            # Draw on our image, all the finded cordinate points (x,y) \n",
    "            for (x, y) in shape:\n",
    "                cv2.circle(image, (x, y), 2, (0, 255, 0), -1)\n",
    "\n",
    "        # Show the image\n",
    "        cv2.imshow(\"Output\", image)\n",
    "\n",
    "        k = cv2.waitKey(5) & 0xFF\n",
    "        if k == 27:\n",
    "            break\n",
    "\n",
    "    cv2.destroyAllWindows()\n",
    "    cap.release()\n",
    "    \n",
    "    features_test = []\n",
    "    for d in data:\n",
    "        eye = d[36:68]\n",
    "        ear = eye_aspect_ratio(eye)\n",
    "        mar = mouth_aspect_ratio(eye)\n",
    "        cir = circularity(eye)\n",
    "        mouth_eye = mouth_over_eye(eye)\n",
    "        features_test.append([ear, mar, cir, mouth_eye])\n",
    "    \n",
    "    features_test = np.array(features_test)\n",
    "    x = features_test\n",
    "    y = pd.DataFrame(x, columns=[\"EAR\",\"MAR\",\"Circularity\",\"MOE\"])\n",
    "    df_means = y.mean(axis=0)\n",
    "    df_std = y.std(axis=0)\n",
    "    \n",
    "    return df_means, df_std"
   ]
  },
  {
   "cell_type": "code",
   "execution_count": 61,
   "metadata": {},
   "outputs": [
    {
     "ename": "NotADirectoryError",
     "evalue": "[WinError 267] The directory name is invalid: 'Output'",
     "output_type": "error",
     "traceback": [
      "\u001b[1;31m---------------------------------------------------------------------------\u001b[0m",
      "\u001b[1;31mNotADirectoryError\u001b[0m                        Traceback (most recent call last)",
      "\u001b[1;32m~\\AppData\\Local\\Temp/ipykernel_52012/1579512726.py\u001b[0m in \u001b[0;36m<module>\u001b[1;34m\u001b[0m\n\u001b[0;32m      9\u001b[0m                                                 transforms.ToTensor()])}\n\u001b[0;32m     10\u001b[0m \u001b[1;33m\u001b[0m\u001b[0m\n\u001b[1;32m---> 11\u001b[1;33m \u001b[0mtrain_data\u001b[0m \u001b[1;33m=\u001b[0m \u001b[0mtorchvision\u001b[0m\u001b[1;33m.\u001b[0m\u001b[0mdatasets\u001b[0m\u001b[1;33m.\u001b[0m\u001b[0mImageFolder\u001b[0m\u001b[1;33m(\u001b[0m\u001b[1;34m\"Output\"\u001b[0m\u001b[1;33m,\u001b[0m \u001b[0mtransform\u001b[0m\u001b[1;33m=\u001b[0m\u001b[0mtransform_img\u001b[0m\u001b[1;33m[\u001b[0m\u001b[1;34m\"train\"\u001b[0m\u001b[1;33m]\u001b[0m\u001b[1;33m)\u001b[0m\u001b[1;33m\u001b[0m\u001b[1;33m\u001b[0m\u001b[0m\n\u001b[0m\u001b[0;32m     12\u001b[0m \u001b[0mvalidation_data\u001b[0m \u001b[1;33m=\u001b[0m \u001b[0mtorchvision\u001b[0m\u001b[1;33m.\u001b[0m\u001b[0mdatasets\u001b[0m\u001b[1;33m.\u001b[0m\u001b[0mImageFolder\u001b[0m\u001b[1;33m(\u001b[0m\u001b[1;34m\"Output_test\"\u001b[0m\u001b[1;33m,\u001b[0m \u001b[0mtransform\u001b[0m\u001b[1;33m=\u001b[0m\u001b[0mtransform_img\u001b[0m\u001b[1;33m[\u001b[0m\u001b[1;34m\"train\"\u001b[0m\u001b[1;33m]\u001b[0m\u001b[1;33m)\u001b[0m\u001b[1;33m\u001b[0m\u001b[1;33m\u001b[0m\u001b[0m\n\u001b[0;32m     13\u001b[0m \u001b[0mtrain_loader\u001b[0m \u001b[1;33m=\u001b[0m \u001b[0mDataLoader\u001b[0m\u001b[1;33m(\u001b[0m\u001b[0mtrain_data\u001b[0m\u001b[1;33m,\u001b[0m \u001b[0mbatch_size\u001b[0m\u001b[1;33m=\u001b[0m\u001b[1;36m32\u001b[0m\u001b[1;33m,\u001b[0m \u001b[0mshuffle\u001b[0m\u001b[1;33m=\u001b[0m\u001b[1;32mTrue\u001b[0m\u001b[1;33m,\u001b[0m \u001b[0mnum_workers\u001b[0m\u001b[1;33m=\u001b[0m\u001b[1;36m0\u001b[0m\u001b[1;33m)\u001b[0m\u001b[1;33m\u001b[0m\u001b[1;33m\u001b[0m\u001b[0m\n",
      "\u001b[1;32mC:\\ProgramData\\Anaconda3\\lib\\site-packages\\torchvision\\datasets\\folder.py\u001b[0m in \u001b[0;36m__init__\u001b[1;34m(self, root, transform, target_transform, loader, is_valid_file)\u001b[0m\n\u001b[0;32m    308\u001b[0m         \u001b[0mis_valid_file\u001b[0m\u001b[1;33m:\u001b[0m \u001b[0mOptional\u001b[0m\u001b[1;33m[\u001b[0m\u001b[0mCallable\u001b[0m\u001b[1;33m[\u001b[0m\u001b[1;33m[\u001b[0m\u001b[0mstr\u001b[0m\u001b[1;33m]\u001b[0m\u001b[1;33m,\u001b[0m \u001b[0mbool\u001b[0m\u001b[1;33m]\u001b[0m\u001b[1;33m]\u001b[0m \u001b[1;33m=\u001b[0m \u001b[1;32mNone\u001b[0m\u001b[1;33m,\u001b[0m\u001b[1;33m\u001b[0m\u001b[1;33m\u001b[0m\u001b[0m\n\u001b[0;32m    309\u001b[0m     ):\n\u001b[1;32m--> 310\u001b[1;33m         super().__init__(\n\u001b[0m\u001b[0;32m    311\u001b[0m             \u001b[0mroot\u001b[0m\u001b[1;33m,\u001b[0m\u001b[1;33m\u001b[0m\u001b[1;33m\u001b[0m\u001b[0m\n\u001b[0;32m    312\u001b[0m             \u001b[0mloader\u001b[0m\u001b[1;33m,\u001b[0m\u001b[1;33m\u001b[0m\u001b[1;33m\u001b[0m\u001b[0m\n",
      "\u001b[1;32mC:\\ProgramData\\Anaconda3\\lib\\site-packages\\torchvision\\datasets\\folder.py\u001b[0m in \u001b[0;36m__init__\u001b[1;34m(self, root, loader, extensions, transform, target_transform, is_valid_file)\u001b[0m\n\u001b[0;32m    143\u001b[0m     ) -> None:\n\u001b[0;32m    144\u001b[0m         \u001b[0msuper\u001b[0m\u001b[1;33m(\u001b[0m\u001b[1;33m)\u001b[0m\u001b[1;33m.\u001b[0m\u001b[0m__init__\u001b[0m\u001b[1;33m(\u001b[0m\u001b[0mroot\u001b[0m\u001b[1;33m,\u001b[0m \u001b[0mtransform\u001b[0m\u001b[1;33m=\u001b[0m\u001b[0mtransform\u001b[0m\u001b[1;33m,\u001b[0m \u001b[0mtarget_transform\u001b[0m\u001b[1;33m=\u001b[0m\u001b[0mtarget_transform\u001b[0m\u001b[1;33m)\u001b[0m\u001b[1;33m\u001b[0m\u001b[1;33m\u001b[0m\u001b[0m\n\u001b[1;32m--> 145\u001b[1;33m         \u001b[0mclasses\u001b[0m\u001b[1;33m,\u001b[0m \u001b[0mclass_to_idx\u001b[0m \u001b[1;33m=\u001b[0m \u001b[0mself\u001b[0m\u001b[1;33m.\u001b[0m\u001b[0mfind_classes\u001b[0m\u001b[1;33m(\u001b[0m\u001b[0mself\u001b[0m\u001b[1;33m.\u001b[0m\u001b[0mroot\u001b[0m\u001b[1;33m)\u001b[0m\u001b[1;33m\u001b[0m\u001b[1;33m\u001b[0m\u001b[0m\n\u001b[0m\u001b[0;32m    146\u001b[0m         \u001b[0msamples\u001b[0m \u001b[1;33m=\u001b[0m \u001b[0mself\u001b[0m\u001b[1;33m.\u001b[0m\u001b[0mmake_dataset\u001b[0m\u001b[1;33m(\u001b[0m\u001b[0mself\u001b[0m\u001b[1;33m.\u001b[0m\u001b[0mroot\u001b[0m\u001b[1;33m,\u001b[0m \u001b[0mclass_to_idx\u001b[0m\u001b[1;33m,\u001b[0m \u001b[0mextensions\u001b[0m\u001b[1;33m,\u001b[0m \u001b[0mis_valid_file\u001b[0m\u001b[1;33m)\u001b[0m\u001b[1;33m\u001b[0m\u001b[1;33m\u001b[0m\u001b[0m\n\u001b[0;32m    147\u001b[0m \u001b[1;33m\u001b[0m\u001b[0m\n",
      "\u001b[1;32mC:\\ProgramData\\Anaconda3\\lib\\site-packages\\torchvision\\datasets\\folder.py\u001b[0m in \u001b[0;36mfind_classes\u001b[1;34m(self, directory)\u001b[0m\n\u001b[0;32m    217\u001b[0m             \u001b[1;33m(\u001b[0m\u001b[0mTuple\u001b[0m\u001b[1;33m[\u001b[0m\u001b[0mList\u001b[0m\u001b[1;33m[\u001b[0m\u001b[0mstr\u001b[0m\u001b[1;33m]\u001b[0m\u001b[1;33m,\u001b[0m \u001b[0mDict\u001b[0m\u001b[1;33m[\u001b[0m\u001b[0mstr\u001b[0m\u001b[1;33m,\u001b[0m \u001b[0mint\u001b[0m\u001b[1;33m]\u001b[0m\u001b[1;33m]\u001b[0m\u001b[1;33m)\u001b[0m\u001b[1;33m:\u001b[0m \u001b[0mList\u001b[0m \u001b[0mof\u001b[0m \u001b[0mall\u001b[0m \u001b[0mclasses\u001b[0m \u001b[1;32mand\u001b[0m \u001b[0mdictionary\u001b[0m \u001b[0mmapping\u001b[0m \u001b[0meach\u001b[0m \u001b[1;32mclass\u001b[0m \u001b[0mto\u001b[0m \u001b[0man\u001b[0m \u001b[0mindex\u001b[0m\u001b[1;33m.\u001b[0m\u001b[1;33m\u001b[0m\u001b[1;33m\u001b[0m\u001b[0m\n\u001b[0;32m    218\u001b[0m         \"\"\"\n\u001b[1;32m--> 219\u001b[1;33m         \u001b[1;32mreturn\u001b[0m \u001b[0mfind_classes\u001b[0m\u001b[1;33m(\u001b[0m\u001b[0mdirectory\u001b[0m\u001b[1;33m)\u001b[0m\u001b[1;33m\u001b[0m\u001b[1;33m\u001b[0m\u001b[0m\n\u001b[0m\u001b[0;32m    220\u001b[0m \u001b[1;33m\u001b[0m\u001b[0m\n\u001b[0;32m    221\u001b[0m     \u001b[1;32mdef\u001b[0m \u001b[0m__getitem__\u001b[0m\u001b[1;33m(\u001b[0m\u001b[0mself\u001b[0m\u001b[1;33m,\u001b[0m \u001b[0mindex\u001b[0m\u001b[1;33m:\u001b[0m \u001b[0mint\u001b[0m\u001b[1;33m)\u001b[0m \u001b[1;33m->\u001b[0m \u001b[0mTuple\u001b[0m\u001b[1;33m[\u001b[0m\u001b[0mAny\u001b[0m\u001b[1;33m,\u001b[0m \u001b[0mAny\u001b[0m\u001b[1;33m]\u001b[0m\u001b[1;33m:\u001b[0m\u001b[1;33m\u001b[0m\u001b[1;33m\u001b[0m\u001b[0m\n",
      "\u001b[1;32mC:\\ProgramData\\Anaconda3\\lib\\site-packages\\torchvision\\datasets\\folder.py\u001b[0m in \u001b[0;36mfind_classes\u001b[1;34m(directory)\u001b[0m\n\u001b[0;32m     39\u001b[0m     \u001b[0mSee\u001b[0m \u001b[1;33m:\u001b[0m\u001b[1;32mclass\u001b[0m\u001b[1;33m:\u001b[0m\u001b[0;31m`\u001b[0m\u001b[0mDatasetFolder\u001b[0m\u001b[0;31m`\u001b[0m \u001b[1;32mfor\u001b[0m \u001b[0mdetails\u001b[0m\u001b[1;33m.\u001b[0m\u001b[1;33m\u001b[0m\u001b[1;33m\u001b[0m\u001b[0m\n\u001b[0;32m     40\u001b[0m     \"\"\"\n\u001b[1;32m---> 41\u001b[1;33m     \u001b[0mclasses\u001b[0m \u001b[1;33m=\u001b[0m \u001b[0msorted\u001b[0m\u001b[1;33m(\u001b[0m\u001b[0mentry\u001b[0m\u001b[1;33m.\u001b[0m\u001b[0mname\u001b[0m \u001b[1;32mfor\u001b[0m \u001b[0mentry\u001b[0m \u001b[1;32min\u001b[0m \u001b[0mos\u001b[0m\u001b[1;33m.\u001b[0m\u001b[0mscandir\u001b[0m\u001b[1;33m(\u001b[0m\u001b[0mdirectory\u001b[0m\u001b[1;33m)\u001b[0m \u001b[1;32mif\u001b[0m \u001b[0mentry\u001b[0m\u001b[1;33m.\u001b[0m\u001b[0mis_dir\u001b[0m\u001b[1;33m(\u001b[0m\u001b[1;33m)\u001b[0m\u001b[1;33m)\u001b[0m\u001b[1;33m\u001b[0m\u001b[1;33m\u001b[0m\u001b[0m\n\u001b[0m\u001b[0;32m     42\u001b[0m     \u001b[1;32mif\u001b[0m \u001b[1;32mnot\u001b[0m \u001b[0mclasses\u001b[0m\u001b[1;33m:\u001b[0m\u001b[1;33m\u001b[0m\u001b[1;33m\u001b[0m\u001b[0m\n\u001b[0;32m     43\u001b[0m         \u001b[1;32mraise\u001b[0m \u001b[0mFileNotFoundError\u001b[0m\u001b[1;33m(\u001b[0m\u001b[1;34mf\"Couldn't find any class folder in {directory}.\"\u001b[0m\u001b[1;33m)\u001b[0m\u001b[1;33m\u001b[0m\u001b[1;33m\u001b[0m\u001b[0m\n",
      "\u001b[1;31mNotADirectoryError\u001b[0m: [WinError 267] The directory name is invalid: 'Output'"
     ]
    }
   ],
   "source": [
    "# Image transformations and data loaders\n",
    "mean = torch.tensor([0.485, 0.456, 0.406], dtype=torch.float32)\n",
    "std = torch.tensor([0.229, 0.224, 0.225], dtype=torch.float32)\n",
    "transform_img = {'train': transforms.Compose([transforms.Resize((224,224)),\n",
    "                                              transforms.ToTensor(),\n",
    "                                              transforms.Normalize(mean.tolist(), std.tolist())]),\n",
    "                 'unnormalize' : transforms.Normalize((-mean/std).tolist(),(1.0/std).tolist()),\n",
    "                 'resize' : transforms.Compose([transforms.Resize((224,224)),\n",
    "                                                transforms.ToTensor()])}\n",
    "\n",
    "train_data = torchvision.datasets.ImageFolder(\"Output\", transform=transform_img[\"train\"])\n",
    "validation_data = torchvision.datasets.ImageFolder(\"Output_test\", transform=transform_img[\"train\"])\n",
    "train_loader = DataLoader(train_data, batch_size=32, shuffle=True, num_workers=0) \n",
    "validation_loader = DataLoader(validation_data, batch_size=32, shuffle=False, num_workers=0)\n",
    "print(train_data, validation_data)\n",
    "\n",
    "traningimages, labels = next(iter(train_loader))\n",
    "labels.shape"
   ]
  },
  {
   "cell_type": "code",
   "execution_count": null,
   "metadata": {},
   "outputs": [],
   "source": []
  }
 ],
 "metadata": {
  "kernelspec": {
   "display_name": "Python 3 (ipykernel)",
   "language": "python",
   "name": "python3"
  },
  "language_info": {
   "codemirror_mode": {
    "name": "ipython",
    "version": 3
   },
   "file_extension": ".py",
   "mimetype": "text/x-python",
   "name": "python",
   "nbconvert_exporter": "python",
   "pygments_lexer": "ipython3",
   "version": "3.9.7"
  }
 },
 "nbformat": 4,
 "nbformat_minor": 2
}
